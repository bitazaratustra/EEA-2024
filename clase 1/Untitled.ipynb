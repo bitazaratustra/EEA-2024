{
 "cells": [
  {
   "cell_type": "code",
   "execution_count": 1,
   "id": "4ef9d5f9-225a-469e-bd2c-d840988e3fcd",
   "metadata": {},
   "outputs": [],
   "source": [
    "df <- as.data.frame(state.x77)"
   ]
  },
  {
   "cell_type": "code",
   "execution_count": 2,
   "id": "06cbc5b9-5a83-4205-bdf9-aaa4426dd3cd",
   "metadata": {},
   "outputs": [
    {
     "data": {
      "text/html": [
       "<table class=\"dataframe\">\n",
       "<caption>A data.frame: 50 × 8</caption>\n",
       "<thead>\n",
       "\t<tr><th></th><th scope=col>Population</th><th scope=col>Income</th><th scope=col>Illiteracy</th><th scope=col>Life Exp</th><th scope=col>Murder</th><th scope=col>HS Grad</th><th scope=col>Frost</th><th scope=col>Area</th></tr>\n",
       "\t<tr><th></th><th scope=col>&lt;dbl&gt;</th><th scope=col>&lt;dbl&gt;</th><th scope=col>&lt;dbl&gt;</th><th scope=col>&lt;dbl&gt;</th><th scope=col>&lt;dbl&gt;</th><th scope=col>&lt;dbl&gt;</th><th scope=col>&lt;dbl&gt;</th><th scope=col>&lt;dbl&gt;</th></tr>\n",
       "</thead>\n",
       "<tbody>\n",
       "\t<tr><th scope=row>Alabama</th><td> 3615</td><td>3624</td><td>2.1</td><td>69.05</td><td>15.1</td><td>41.3</td><td> 20</td><td> 50708</td></tr>\n",
       "\t<tr><th scope=row>Alaska</th><td>  365</td><td>6315</td><td>1.5</td><td>69.31</td><td>11.3</td><td>66.7</td><td>152</td><td>566432</td></tr>\n",
       "\t<tr><th scope=row>Arizona</th><td> 2212</td><td>4530</td><td>1.8</td><td>70.55</td><td> 7.8</td><td>58.1</td><td> 15</td><td>113417</td></tr>\n",
       "\t<tr><th scope=row>Arkansas</th><td> 2110</td><td>3378</td><td>1.9</td><td>70.66</td><td>10.1</td><td>39.9</td><td> 65</td><td> 51945</td></tr>\n",
       "\t<tr><th scope=row>California</th><td>21198</td><td>5114</td><td>1.1</td><td>71.71</td><td>10.3</td><td>62.6</td><td> 20</td><td>156361</td></tr>\n",
       "\t<tr><th scope=row>Colorado</th><td> 2541</td><td>4884</td><td>0.7</td><td>72.06</td><td> 6.8</td><td>63.9</td><td>166</td><td>103766</td></tr>\n",
       "\t<tr><th scope=row>Connecticut</th><td> 3100</td><td>5348</td><td>1.1</td><td>72.48</td><td> 3.1</td><td>56.0</td><td>139</td><td>  4862</td></tr>\n",
       "\t<tr><th scope=row>Delaware</th><td>  579</td><td>4809</td><td>0.9</td><td>70.06</td><td> 6.2</td><td>54.6</td><td>103</td><td>  1982</td></tr>\n",
       "\t<tr><th scope=row>Florida</th><td> 8277</td><td>4815</td><td>1.3</td><td>70.66</td><td>10.7</td><td>52.6</td><td> 11</td><td> 54090</td></tr>\n",
       "\t<tr><th scope=row>Georgia</th><td> 4931</td><td>4091</td><td>2.0</td><td>68.54</td><td>13.9</td><td>40.6</td><td> 60</td><td> 58073</td></tr>\n",
       "\t<tr><th scope=row>Hawaii</th><td>  868</td><td>4963</td><td>1.9</td><td>73.60</td><td> 6.2</td><td>61.9</td><td>  0</td><td>  6425</td></tr>\n",
       "\t<tr><th scope=row>Idaho</th><td>  813</td><td>4119</td><td>0.6</td><td>71.87</td><td> 5.3</td><td>59.5</td><td>126</td><td> 82677</td></tr>\n",
       "\t<tr><th scope=row>Illinois</th><td>11197</td><td>5107</td><td>0.9</td><td>70.14</td><td>10.3</td><td>52.6</td><td>127</td><td> 55748</td></tr>\n",
       "\t<tr><th scope=row>Indiana</th><td> 5313</td><td>4458</td><td>0.7</td><td>70.88</td><td> 7.1</td><td>52.9</td><td>122</td><td> 36097</td></tr>\n",
       "\t<tr><th scope=row>Iowa</th><td> 2861</td><td>4628</td><td>0.5</td><td>72.56</td><td> 2.3</td><td>59.0</td><td>140</td><td> 55941</td></tr>\n",
       "\t<tr><th scope=row>Kansas</th><td> 2280</td><td>4669</td><td>0.6</td><td>72.58</td><td> 4.5</td><td>59.9</td><td>114</td><td> 81787</td></tr>\n",
       "\t<tr><th scope=row>Kentucky</th><td> 3387</td><td>3712</td><td>1.6</td><td>70.10</td><td>10.6</td><td>38.5</td><td> 95</td><td> 39650</td></tr>\n",
       "\t<tr><th scope=row>Louisiana</th><td> 3806</td><td>3545</td><td>2.8</td><td>68.76</td><td>13.2</td><td>42.2</td><td> 12</td><td> 44930</td></tr>\n",
       "\t<tr><th scope=row>Maine</th><td> 1058</td><td>3694</td><td>0.7</td><td>70.39</td><td> 2.7</td><td>54.7</td><td>161</td><td> 30920</td></tr>\n",
       "\t<tr><th scope=row>Maryland</th><td> 4122</td><td>5299</td><td>0.9</td><td>70.22</td><td> 8.5</td><td>52.3</td><td>101</td><td>  9891</td></tr>\n",
       "\t<tr><th scope=row>Massachusetts</th><td> 5814</td><td>4755</td><td>1.1</td><td>71.83</td><td> 3.3</td><td>58.5</td><td>103</td><td>  7826</td></tr>\n",
       "\t<tr><th scope=row>Michigan</th><td> 9111</td><td>4751</td><td>0.9</td><td>70.63</td><td>11.1</td><td>52.8</td><td>125</td><td> 56817</td></tr>\n",
       "\t<tr><th scope=row>Minnesota</th><td> 3921</td><td>4675</td><td>0.6</td><td>72.96</td><td> 2.3</td><td>57.6</td><td>160</td><td> 79289</td></tr>\n",
       "\t<tr><th scope=row>Mississippi</th><td> 2341</td><td>3098</td><td>2.4</td><td>68.09</td><td>12.5</td><td>41.0</td><td> 50</td><td> 47296</td></tr>\n",
       "\t<tr><th scope=row>Missouri</th><td> 4767</td><td>4254</td><td>0.8</td><td>70.69</td><td> 9.3</td><td>48.8</td><td>108</td><td> 68995</td></tr>\n",
       "\t<tr><th scope=row>Montana</th><td>  746</td><td>4347</td><td>0.6</td><td>70.56</td><td> 5.0</td><td>59.2</td><td>155</td><td>145587</td></tr>\n",
       "\t<tr><th scope=row>Nebraska</th><td> 1544</td><td>4508</td><td>0.6</td><td>72.60</td><td> 2.9</td><td>59.3</td><td>139</td><td> 76483</td></tr>\n",
       "\t<tr><th scope=row>Nevada</th><td>  590</td><td>5149</td><td>0.5</td><td>69.03</td><td>11.5</td><td>65.2</td><td>188</td><td>109889</td></tr>\n",
       "\t<tr><th scope=row>New Hampshire</th><td>  812</td><td>4281</td><td>0.7</td><td>71.23</td><td> 3.3</td><td>57.6</td><td>174</td><td>  9027</td></tr>\n",
       "\t<tr><th scope=row>New Jersey</th><td> 7333</td><td>5237</td><td>1.1</td><td>70.93</td><td> 5.2</td><td>52.5</td><td>115</td><td>  7521</td></tr>\n",
       "\t<tr><th scope=row>New Mexico</th><td> 1144</td><td>3601</td><td>2.2</td><td>70.32</td><td> 9.7</td><td>55.2</td><td>120</td><td>121412</td></tr>\n",
       "\t<tr><th scope=row>New York</th><td>18076</td><td>4903</td><td>1.4</td><td>70.55</td><td>10.9</td><td>52.7</td><td> 82</td><td> 47831</td></tr>\n",
       "\t<tr><th scope=row>North Carolina</th><td> 5441</td><td>3875</td><td>1.8</td><td>69.21</td><td>11.1</td><td>38.5</td><td> 80</td><td> 48798</td></tr>\n",
       "\t<tr><th scope=row>North Dakota</th><td>  637</td><td>5087</td><td>0.8</td><td>72.78</td><td> 1.4</td><td>50.3</td><td>186</td><td> 69273</td></tr>\n",
       "\t<tr><th scope=row>Ohio</th><td>10735</td><td>4561</td><td>0.8</td><td>70.82</td><td> 7.4</td><td>53.2</td><td>124</td><td> 40975</td></tr>\n",
       "\t<tr><th scope=row>Oklahoma</th><td> 2715</td><td>3983</td><td>1.1</td><td>71.42</td><td> 6.4</td><td>51.6</td><td> 82</td><td> 68782</td></tr>\n",
       "\t<tr><th scope=row>Oregon</th><td> 2284</td><td>4660</td><td>0.6</td><td>72.13</td><td> 4.2</td><td>60.0</td><td> 44</td><td> 96184</td></tr>\n",
       "\t<tr><th scope=row>Pennsylvania</th><td>11860</td><td>4449</td><td>1.0</td><td>70.43</td><td> 6.1</td><td>50.2</td><td>126</td><td> 44966</td></tr>\n",
       "\t<tr><th scope=row>Rhode Island</th><td>  931</td><td>4558</td><td>1.3</td><td>71.90</td><td> 2.4</td><td>46.4</td><td>127</td><td>  1049</td></tr>\n",
       "\t<tr><th scope=row>South Carolina</th><td> 2816</td><td>3635</td><td>2.3</td><td>67.96</td><td>11.6</td><td>37.8</td><td> 65</td><td> 30225</td></tr>\n",
       "\t<tr><th scope=row>South Dakota</th><td>  681</td><td>4167</td><td>0.5</td><td>72.08</td><td> 1.7</td><td>53.3</td><td>172</td><td> 75955</td></tr>\n",
       "\t<tr><th scope=row>Tennessee</th><td> 4173</td><td>3821</td><td>1.7</td><td>70.11</td><td>11.0</td><td>41.8</td><td> 70</td><td> 41328</td></tr>\n",
       "\t<tr><th scope=row>Texas</th><td>12237</td><td>4188</td><td>2.2</td><td>70.90</td><td>12.2</td><td>47.4</td><td> 35</td><td>262134</td></tr>\n",
       "\t<tr><th scope=row>Utah</th><td> 1203</td><td>4022</td><td>0.6</td><td>72.90</td><td> 4.5</td><td>67.3</td><td>137</td><td> 82096</td></tr>\n",
       "\t<tr><th scope=row>Vermont</th><td>  472</td><td>3907</td><td>0.6</td><td>71.64</td><td> 5.5</td><td>57.1</td><td>168</td><td>  9267</td></tr>\n",
       "\t<tr><th scope=row>Virginia</th><td> 4981</td><td>4701</td><td>1.4</td><td>70.08</td><td> 9.5</td><td>47.8</td><td> 85</td><td> 39780</td></tr>\n",
       "\t<tr><th scope=row>Washington</th><td> 3559</td><td>4864</td><td>0.6</td><td>71.72</td><td> 4.3</td><td>63.5</td><td> 32</td><td> 66570</td></tr>\n",
       "\t<tr><th scope=row>West Virginia</th><td> 1799</td><td>3617</td><td>1.4</td><td>69.48</td><td> 6.7</td><td>41.6</td><td>100</td><td> 24070</td></tr>\n",
       "\t<tr><th scope=row>Wisconsin</th><td> 4589</td><td>4468</td><td>0.7</td><td>72.48</td><td> 3.0</td><td>54.5</td><td>149</td><td> 54464</td></tr>\n",
       "\t<tr><th scope=row>Wyoming</th><td>  376</td><td>4566</td><td>0.6</td><td>70.29</td><td> 6.9</td><td>62.9</td><td>173</td><td> 97203</td></tr>\n",
       "</tbody>\n",
       "</table>\n"
      ],
      "text/latex": [
       "A data.frame: 50 × 8\n",
       "\\begin{tabular}{r|llllllll}\n",
       "  & Population & Income & Illiteracy & Life Exp & Murder & HS Grad & Frost & Area\\\\\n",
       "  & <dbl> & <dbl> & <dbl> & <dbl> & <dbl> & <dbl> & <dbl> & <dbl>\\\\\n",
       "\\hline\n",
       "\tAlabama &  3615 & 3624 & 2.1 & 69.05 & 15.1 & 41.3 &  20 &  50708\\\\\n",
       "\tAlaska &   365 & 6315 & 1.5 & 69.31 & 11.3 & 66.7 & 152 & 566432\\\\\n",
       "\tArizona &  2212 & 4530 & 1.8 & 70.55 &  7.8 & 58.1 &  15 & 113417\\\\\n",
       "\tArkansas &  2110 & 3378 & 1.9 & 70.66 & 10.1 & 39.9 &  65 &  51945\\\\\n",
       "\tCalifornia & 21198 & 5114 & 1.1 & 71.71 & 10.3 & 62.6 &  20 & 156361\\\\\n",
       "\tColorado &  2541 & 4884 & 0.7 & 72.06 &  6.8 & 63.9 & 166 & 103766\\\\\n",
       "\tConnecticut &  3100 & 5348 & 1.1 & 72.48 &  3.1 & 56.0 & 139 &   4862\\\\\n",
       "\tDelaware &   579 & 4809 & 0.9 & 70.06 &  6.2 & 54.6 & 103 &   1982\\\\\n",
       "\tFlorida &  8277 & 4815 & 1.3 & 70.66 & 10.7 & 52.6 &  11 &  54090\\\\\n",
       "\tGeorgia &  4931 & 4091 & 2.0 & 68.54 & 13.9 & 40.6 &  60 &  58073\\\\\n",
       "\tHawaii &   868 & 4963 & 1.9 & 73.60 &  6.2 & 61.9 &   0 &   6425\\\\\n",
       "\tIdaho &   813 & 4119 & 0.6 & 71.87 &  5.3 & 59.5 & 126 &  82677\\\\\n",
       "\tIllinois & 11197 & 5107 & 0.9 & 70.14 & 10.3 & 52.6 & 127 &  55748\\\\\n",
       "\tIndiana &  5313 & 4458 & 0.7 & 70.88 &  7.1 & 52.9 & 122 &  36097\\\\\n",
       "\tIowa &  2861 & 4628 & 0.5 & 72.56 &  2.3 & 59.0 & 140 &  55941\\\\\n",
       "\tKansas &  2280 & 4669 & 0.6 & 72.58 &  4.5 & 59.9 & 114 &  81787\\\\\n",
       "\tKentucky &  3387 & 3712 & 1.6 & 70.10 & 10.6 & 38.5 &  95 &  39650\\\\\n",
       "\tLouisiana &  3806 & 3545 & 2.8 & 68.76 & 13.2 & 42.2 &  12 &  44930\\\\\n",
       "\tMaine &  1058 & 3694 & 0.7 & 70.39 &  2.7 & 54.7 & 161 &  30920\\\\\n",
       "\tMaryland &  4122 & 5299 & 0.9 & 70.22 &  8.5 & 52.3 & 101 &   9891\\\\\n",
       "\tMassachusetts &  5814 & 4755 & 1.1 & 71.83 &  3.3 & 58.5 & 103 &   7826\\\\\n",
       "\tMichigan &  9111 & 4751 & 0.9 & 70.63 & 11.1 & 52.8 & 125 &  56817\\\\\n",
       "\tMinnesota &  3921 & 4675 & 0.6 & 72.96 &  2.3 & 57.6 & 160 &  79289\\\\\n",
       "\tMississippi &  2341 & 3098 & 2.4 & 68.09 & 12.5 & 41.0 &  50 &  47296\\\\\n",
       "\tMissouri &  4767 & 4254 & 0.8 & 70.69 &  9.3 & 48.8 & 108 &  68995\\\\\n",
       "\tMontana &   746 & 4347 & 0.6 & 70.56 &  5.0 & 59.2 & 155 & 145587\\\\\n",
       "\tNebraska &  1544 & 4508 & 0.6 & 72.60 &  2.9 & 59.3 & 139 &  76483\\\\\n",
       "\tNevada &   590 & 5149 & 0.5 & 69.03 & 11.5 & 65.2 & 188 & 109889\\\\\n",
       "\tNew Hampshire &   812 & 4281 & 0.7 & 71.23 &  3.3 & 57.6 & 174 &   9027\\\\\n",
       "\tNew Jersey &  7333 & 5237 & 1.1 & 70.93 &  5.2 & 52.5 & 115 &   7521\\\\\n",
       "\tNew Mexico &  1144 & 3601 & 2.2 & 70.32 &  9.7 & 55.2 & 120 & 121412\\\\\n",
       "\tNew York & 18076 & 4903 & 1.4 & 70.55 & 10.9 & 52.7 &  82 &  47831\\\\\n",
       "\tNorth Carolina &  5441 & 3875 & 1.8 & 69.21 & 11.1 & 38.5 &  80 &  48798\\\\\n",
       "\tNorth Dakota &   637 & 5087 & 0.8 & 72.78 &  1.4 & 50.3 & 186 &  69273\\\\\n",
       "\tOhio & 10735 & 4561 & 0.8 & 70.82 &  7.4 & 53.2 & 124 &  40975\\\\\n",
       "\tOklahoma &  2715 & 3983 & 1.1 & 71.42 &  6.4 & 51.6 &  82 &  68782\\\\\n",
       "\tOregon &  2284 & 4660 & 0.6 & 72.13 &  4.2 & 60.0 &  44 &  96184\\\\\n",
       "\tPennsylvania & 11860 & 4449 & 1.0 & 70.43 &  6.1 & 50.2 & 126 &  44966\\\\\n",
       "\tRhode Island &   931 & 4558 & 1.3 & 71.90 &  2.4 & 46.4 & 127 &   1049\\\\\n",
       "\tSouth Carolina &  2816 & 3635 & 2.3 & 67.96 & 11.6 & 37.8 &  65 &  30225\\\\\n",
       "\tSouth Dakota &   681 & 4167 & 0.5 & 72.08 &  1.7 & 53.3 & 172 &  75955\\\\\n",
       "\tTennessee &  4173 & 3821 & 1.7 & 70.11 & 11.0 & 41.8 &  70 &  41328\\\\\n",
       "\tTexas & 12237 & 4188 & 2.2 & 70.90 & 12.2 & 47.4 &  35 & 262134\\\\\n",
       "\tUtah &  1203 & 4022 & 0.6 & 72.90 &  4.5 & 67.3 & 137 &  82096\\\\\n",
       "\tVermont &   472 & 3907 & 0.6 & 71.64 &  5.5 & 57.1 & 168 &   9267\\\\\n",
       "\tVirginia &  4981 & 4701 & 1.4 & 70.08 &  9.5 & 47.8 &  85 &  39780\\\\\n",
       "\tWashington &  3559 & 4864 & 0.6 & 71.72 &  4.3 & 63.5 &  32 &  66570\\\\\n",
       "\tWest Virginia &  1799 & 3617 & 1.4 & 69.48 &  6.7 & 41.6 & 100 &  24070\\\\\n",
       "\tWisconsin &  4589 & 4468 & 0.7 & 72.48 &  3.0 & 54.5 & 149 &  54464\\\\\n",
       "\tWyoming &   376 & 4566 & 0.6 & 70.29 &  6.9 & 62.9 & 173 &  97203\\\\\n",
       "\\end{tabular}\n"
      ],
      "text/markdown": [
       "\n",
       "A data.frame: 50 × 8\n",
       "\n",
       "| <!--/--> | Population &lt;dbl&gt; | Income &lt;dbl&gt; | Illiteracy &lt;dbl&gt; | Life Exp &lt;dbl&gt; | Murder &lt;dbl&gt; | HS Grad &lt;dbl&gt; | Frost &lt;dbl&gt; | Area &lt;dbl&gt; |\n",
       "|---|---|---|---|---|---|---|---|---|\n",
       "| Alabama |  3615 | 3624 | 2.1 | 69.05 | 15.1 | 41.3 |  20 |  50708 |\n",
       "| Alaska |   365 | 6315 | 1.5 | 69.31 | 11.3 | 66.7 | 152 | 566432 |\n",
       "| Arizona |  2212 | 4530 | 1.8 | 70.55 |  7.8 | 58.1 |  15 | 113417 |\n",
       "| Arkansas |  2110 | 3378 | 1.9 | 70.66 | 10.1 | 39.9 |  65 |  51945 |\n",
       "| California | 21198 | 5114 | 1.1 | 71.71 | 10.3 | 62.6 |  20 | 156361 |\n",
       "| Colorado |  2541 | 4884 | 0.7 | 72.06 |  6.8 | 63.9 | 166 | 103766 |\n",
       "| Connecticut |  3100 | 5348 | 1.1 | 72.48 |  3.1 | 56.0 | 139 |   4862 |\n",
       "| Delaware |   579 | 4809 | 0.9 | 70.06 |  6.2 | 54.6 | 103 |   1982 |\n",
       "| Florida |  8277 | 4815 | 1.3 | 70.66 | 10.7 | 52.6 |  11 |  54090 |\n",
       "| Georgia |  4931 | 4091 | 2.0 | 68.54 | 13.9 | 40.6 |  60 |  58073 |\n",
       "| Hawaii |   868 | 4963 | 1.9 | 73.60 |  6.2 | 61.9 |   0 |   6425 |\n",
       "| Idaho |   813 | 4119 | 0.6 | 71.87 |  5.3 | 59.5 | 126 |  82677 |\n",
       "| Illinois | 11197 | 5107 | 0.9 | 70.14 | 10.3 | 52.6 | 127 |  55748 |\n",
       "| Indiana |  5313 | 4458 | 0.7 | 70.88 |  7.1 | 52.9 | 122 |  36097 |\n",
       "| Iowa |  2861 | 4628 | 0.5 | 72.56 |  2.3 | 59.0 | 140 |  55941 |\n",
       "| Kansas |  2280 | 4669 | 0.6 | 72.58 |  4.5 | 59.9 | 114 |  81787 |\n",
       "| Kentucky |  3387 | 3712 | 1.6 | 70.10 | 10.6 | 38.5 |  95 |  39650 |\n",
       "| Louisiana |  3806 | 3545 | 2.8 | 68.76 | 13.2 | 42.2 |  12 |  44930 |\n",
       "| Maine |  1058 | 3694 | 0.7 | 70.39 |  2.7 | 54.7 | 161 |  30920 |\n",
       "| Maryland |  4122 | 5299 | 0.9 | 70.22 |  8.5 | 52.3 | 101 |   9891 |\n",
       "| Massachusetts |  5814 | 4755 | 1.1 | 71.83 |  3.3 | 58.5 | 103 |   7826 |\n",
       "| Michigan |  9111 | 4751 | 0.9 | 70.63 | 11.1 | 52.8 | 125 |  56817 |\n",
       "| Minnesota |  3921 | 4675 | 0.6 | 72.96 |  2.3 | 57.6 | 160 |  79289 |\n",
       "| Mississippi |  2341 | 3098 | 2.4 | 68.09 | 12.5 | 41.0 |  50 |  47296 |\n",
       "| Missouri |  4767 | 4254 | 0.8 | 70.69 |  9.3 | 48.8 | 108 |  68995 |\n",
       "| Montana |   746 | 4347 | 0.6 | 70.56 |  5.0 | 59.2 | 155 | 145587 |\n",
       "| Nebraska |  1544 | 4508 | 0.6 | 72.60 |  2.9 | 59.3 | 139 |  76483 |\n",
       "| Nevada |   590 | 5149 | 0.5 | 69.03 | 11.5 | 65.2 | 188 | 109889 |\n",
       "| New Hampshire |   812 | 4281 | 0.7 | 71.23 |  3.3 | 57.6 | 174 |   9027 |\n",
       "| New Jersey |  7333 | 5237 | 1.1 | 70.93 |  5.2 | 52.5 | 115 |   7521 |\n",
       "| New Mexico |  1144 | 3601 | 2.2 | 70.32 |  9.7 | 55.2 | 120 | 121412 |\n",
       "| New York | 18076 | 4903 | 1.4 | 70.55 | 10.9 | 52.7 |  82 |  47831 |\n",
       "| North Carolina |  5441 | 3875 | 1.8 | 69.21 | 11.1 | 38.5 |  80 |  48798 |\n",
       "| North Dakota |   637 | 5087 | 0.8 | 72.78 |  1.4 | 50.3 | 186 |  69273 |\n",
       "| Ohio | 10735 | 4561 | 0.8 | 70.82 |  7.4 | 53.2 | 124 |  40975 |\n",
       "| Oklahoma |  2715 | 3983 | 1.1 | 71.42 |  6.4 | 51.6 |  82 |  68782 |\n",
       "| Oregon |  2284 | 4660 | 0.6 | 72.13 |  4.2 | 60.0 |  44 |  96184 |\n",
       "| Pennsylvania | 11860 | 4449 | 1.0 | 70.43 |  6.1 | 50.2 | 126 |  44966 |\n",
       "| Rhode Island |   931 | 4558 | 1.3 | 71.90 |  2.4 | 46.4 | 127 |   1049 |\n",
       "| South Carolina |  2816 | 3635 | 2.3 | 67.96 | 11.6 | 37.8 |  65 |  30225 |\n",
       "| South Dakota |   681 | 4167 | 0.5 | 72.08 |  1.7 | 53.3 | 172 |  75955 |\n",
       "| Tennessee |  4173 | 3821 | 1.7 | 70.11 | 11.0 | 41.8 |  70 |  41328 |\n",
       "| Texas | 12237 | 4188 | 2.2 | 70.90 | 12.2 | 47.4 |  35 | 262134 |\n",
       "| Utah |  1203 | 4022 | 0.6 | 72.90 |  4.5 | 67.3 | 137 |  82096 |\n",
       "| Vermont |   472 | 3907 | 0.6 | 71.64 |  5.5 | 57.1 | 168 |   9267 |\n",
       "| Virginia |  4981 | 4701 | 1.4 | 70.08 |  9.5 | 47.8 |  85 |  39780 |\n",
       "| Washington |  3559 | 4864 | 0.6 | 71.72 |  4.3 | 63.5 |  32 |  66570 |\n",
       "| West Virginia |  1799 | 3617 | 1.4 | 69.48 |  6.7 | 41.6 | 100 |  24070 |\n",
       "| Wisconsin |  4589 | 4468 | 0.7 | 72.48 |  3.0 | 54.5 | 149 |  54464 |\n",
       "| Wyoming |   376 | 4566 | 0.6 | 70.29 |  6.9 | 62.9 | 173 |  97203 |\n",
       "\n"
      ],
      "text/plain": [
       "               Population Income Illiteracy Life Exp Murder HS Grad Frost\n",
       "Alabama         3615      3624   2.1        69.05    15.1   41.3     20  \n",
       "Alaska           365      6315   1.5        69.31    11.3   66.7    152  \n",
       "Arizona         2212      4530   1.8        70.55     7.8   58.1     15  \n",
       "Arkansas        2110      3378   1.9        70.66    10.1   39.9     65  \n",
       "California     21198      5114   1.1        71.71    10.3   62.6     20  \n",
       "Colorado        2541      4884   0.7        72.06     6.8   63.9    166  \n",
       "Connecticut     3100      5348   1.1        72.48     3.1   56.0    139  \n",
       "Delaware         579      4809   0.9        70.06     6.2   54.6    103  \n",
       "Florida         8277      4815   1.3        70.66    10.7   52.6     11  \n",
       "Georgia         4931      4091   2.0        68.54    13.9   40.6     60  \n",
       "Hawaii           868      4963   1.9        73.60     6.2   61.9      0  \n",
       "Idaho            813      4119   0.6        71.87     5.3   59.5    126  \n",
       "Illinois       11197      5107   0.9        70.14    10.3   52.6    127  \n",
       "Indiana         5313      4458   0.7        70.88     7.1   52.9    122  \n",
       "Iowa            2861      4628   0.5        72.56     2.3   59.0    140  \n",
       "Kansas          2280      4669   0.6        72.58     4.5   59.9    114  \n",
       "Kentucky        3387      3712   1.6        70.10    10.6   38.5     95  \n",
       "Louisiana       3806      3545   2.8        68.76    13.2   42.2     12  \n",
       "Maine           1058      3694   0.7        70.39     2.7   54.7    161  \n",
       "Maryland        4122      5299   0.9        70.22     8.5   52.3    101  \n",
       "Massachusetts   5814      4755   1.1        71.83     3.3   58.5    103  \n",
       "Michigan        9111      4751   0.9        70.63    11.1   52.8    125  \n",
       "Minnesota       3921      4675   0.6        72.96     2.3   57.6    160  \n",
       "Mississippi     2341      3098   2.4        68.09    12.5   41.0     50  \n",
       "Missouri        4767      4254   0.8        70.69     9.3   48.8    108  \n",
       "Montana          746      4347   0.6        70.56     5.0   59.2    155  \n",
       "Nebraska        1544      4508   0.6        72.60     2.9   59.3    139  \n",
       "Nevada           590      5149   0.5        69.03    11.5   65.2    188  \n",
       "New Hampshire    812      4281   0.7        71.23     3.3   57.6    174  \n",
       "New Jersey      7333      5237   1.1        70.93     5.2   52.5    115  \n",
       "New Mexico      1144      3601   2.2        70.32     9.7   55.2    120  \n",
       "New York       18076      4903   1.4        70.55    10.9   52.7     82  \n",
       "North Carolina  5441      3875   1.8        69.21    11.1   38.5     80  \n",
       "North Dakota     637      5087   0.8        72.78     1.4   50.3    186  \n",
       "Ohio           10735      4561   0.8        70.82     7.4   53.2    124  \n",
       "Oklahoma        2715      3983   1.1        71.42     6.4   51.6     82  \n",
       "Oregon          2284      4660   0.6        72.13     4.2   60.0     44  \n",
       "Pennsylvania   11860      4449   1.0        70.43     6.1   50.2    126  \n",
       "Rhode Island     931      4558   1.3        71.90     2.4   46.4    127  \n",
       "South Carolina  2816      3635   2.3        67.96    11.6   37.8     65  \n",
       "South Dakota     681      4167   0.5        72.08     1.7   53.3    172  \n",
       "Tennessee       4173      3821   1.7        70.11    11.0   41.8     70  \n",
       "Texas          12237      4188   2.2        70.90    12.2   47.4     35  \n",
       "Utah            1203      4022   0.6        72.90     4.5   67.3    137  \n",
       "Vermont          472      3907   0.6        71.64     5.5   57.1    168  \n",
       "Virginia        4981      4701   1.4        70.08     9.5   47.8     85  \n",
       "Washington      3559      4864   0.6        71.72     4.3   63.5     32  \n",
       "West Virginia   1799      3617   1.4        69.48     6.7   41.6    100  \n",
       "Wisconsin       4589      4468   0.7        72.48     3.0   54.5    149  \n",
       "Wyoming          376      4566   0.6        70.29     6.9   62.9    173  \n",
       "               Area  \n",
       "Alabama         50708\n",
       "Alaska         566432\n",
       "Arizona        113417\n",
       "Arkansas        51945\n",
       "California     156361\n",
       "Colorado       103766\n",
       "Connecticut      4862\n",
       "Delaware         1982\n",
       "Florida         54090\n",
       "Georgia         58073\n",
       "Hawaii           6425\n",
       "Idaho           82677\n",
       "Illinois        55748\n",
       "Indiana         36097\n",
       "Iowa            55941\n",
       "Kansas          81787\n",
       "Kentucky        39650\n",
       "Louisiana       44930\n",
       "Maine           30920\n",
       "Maryland         9891\n",
       "Massachusetts    7826\n",
       "Michigan        56817\n",
       "Minnesota       79289\n",
       "Mississippi     47296\n",
       "Missouri        68995\n",
       "Montana        145587\n",
       "Nebraska        76483\n",
       "Nevada         109889\n",
       "New Hampshire    9027\n",
       "New Jersey       7521\n",
       "New Mexico     121412\n",
       "New York        47831\n",
       "North Carolina  48798\n",
       "North Dakota    69273\n",
       "Ohio            40975\n",
       "Oklahoma        68782\n",
       "Oregon          96184\n",
       "Pennsylvania    44966\n",
       "Rhode Island     1049\n",
       "South Carolina  30225\n",
       "South Dakota    75955\n",
       "Tennessee       41328\n",
       "Texas          262134\n",
       "Utah            82096\n",
       "Vermont          9267\n",
       "Virginia        39780\n",
       "Washington      66570\n",
       "West Virginia   24070\n",
       "Wisconsin       54464\n",
       "Wyoming         97203"
      ]
     },
     "metadata": {},
     "output_type": "display_data"
    }
   ],
   "source": [
    "df"
   ]
  },
  {
   "cell_type": "code",
   "execution_count": 5,
   "id": "d5ded84b-7b9f-4c42-85aa-77759d62d501",
   "metadata": {},
   "outputs": [],
   "source": [
    "eeuu_population<-sum(df$Population)"
   ]
  },
  {
   "cell_type": "code",
   "execution_count": 6,
   "id": "c4eb03a4-4fbe-4dc2-8a84-c1d24d2462df",
   "metadata": {},
   "outputs": [
    {
     "data": {
      "text/html": [
       "212321"
      ],
      "text/latex": [
       "212321"
      ],
      "text/markdown": [
       "212321"
      ],
      "text/plain": [
       "[1] 212321"
      ]
     },
     "metadata": {},
     "output_type": "display_data"
    }
   ],
   "source": [
    "eeuu_population"
   ]
  },
  {
   "cell_type": "code",
   "execution_count": 19,
   "id": "84a96171-1bd0-4713-a508-befb983f5a5a",
   "metadata": {},
   "outputs": [
    {
     "data": {
      "text/html": [
       "70.8786"
      ],
      "text/latex": [
       "70.8786"
      ],
      "text/markdown": [
       "70.8786"
      ],
      "text/plain": [
       "[1] 70.8786"
      ]
     },
     "metadata": {},
     "output_type": "display_data"
    }
   ],
   "source": [
    "life_exp<-mean(df$'Life Exp')\n",
    "life_exp"
   ]
  },
  {
   "cell_type": "code",
   "execution_count": 20,
   "id": "523d1587-a2f9-41e2-a40c-f5c059d467c6",
   "metadata": {},
   "outputs": [
    {
     "data": {
      "text/html": [
       "4519"
      ],
      "text/latex": [
       "4519"
      ],
      "text/markdown": [
       "4519"
      ],
      "text/plain": [
       "[1] 4519"
      ]
     },
     "metadata": {},
     "output_type": "display_data"
    }
   ],
   "source": [
    "life_exp<-median(df$'Income')\n",
    "life_exp"
   ]
  },
  {
   "cell_type": "code",
   "execution_count": 25,
   "id": "4d30a142-4c40-46d0-bf43-4db2175d84e7",
   "metadata": {},
   "outputs": [
    {
     "data": {
      "text/html": [
       "<table class=\"dataframe\">\n",
       "<caption>A data.frame: 6 × 2</caption>\n",
       "<thead>\n",
       "\t<tr><th></th><th scope=col>Illiteracy</th><th scope=col>Murder</th></tr>\n",
       "\t<tr><th></th><th scope=col>&lt;dbl&gt;</th><th scope=col>&lt;dbl&gt;</th></tr>\n",
       "</thead>\n",
       "<tbody>\n",
       "\t<tr><th scope=row>Alabama</th><td>2.1</td><td>15.1</td></tr>\n",
       "\t<tr><th scope=row>Alaska</th><td>1.5</td><td>11.3</td></tr>\n",
       "\t<tr><th scope=row>Arizona</th><td>1.8</td><td> 7.8</td></tr>\n",
       "\t<tr><th scope=row>Arkansas</th><td>1.9</td><td>10.1</td></tr>\n",
       "\t<tr><th scope=row>California</th><td>1.1</td><td>10.3</td></tr>\n",
       "\t<tr><th scope=row>Colorado</th><td>0.7</td><td> 6.8</td></tr>\n",
       "</tbody>\n",
       "</table>\n"
      ],
      "text/latex": [
       "A data.frame: 6 × 2\n",
       "\\begin{tabular}{r|ll}\n",
       "  & Illiteracy & Murder\\\\\n",
       "  & <dbl> & <dbl>\\\\\n",
       "\\hline\n",
       "\tAlabama & 2.1 & 15.1\\\\\n",
       "\tAlaska & 1.5 & 11.3\\\\\n",
       "\tArizona & 1.8 &  7.8\\\\\n",
       "\tArkansas & 1.9 & 10.1\\\\\n",
       "\tCalifornia & 1.1 & 10.3\\\\\n",
       "\tColorado & 0.7 &  6.8\\\\\n",
       "\\end{tabular}\n"
      ],
      "text/markdown": [
       "\n",
       "A data.frame: 6 × 2\n",
       "\n",
       "| <!--/--> | Illiteracy &lt;dbl&gt; | Murder &lt;dbl&gt; |\n",
       "|---|---|---|\n",
       "| Alabama | 2.1 | 15.1 |\n",
       "| Alaska | 1.5 | 11.3 |\n",
       "| Arizona | 1.8 |  7.8 |\n",
       "| Arkansas | 1.9 | 10.1 |\n",
       "| California | 1.1 | 10.3 |\n",
       "| Colorado | 0.7 |  6.8 |\n",
       "\n"
      ],
      "text/plain": [
       "           Illiteracy Murder\n",
       "Alabama    2.1        15.1  \n",
       "Alaska     1.5        11.3  \n",
       "Arizona    1.8         7.8  \n",
       "Arkansas   1.9        10.1  \n",
       "California 1.1        10.3  \n",
       "Colorado   0.7         6.8  "
      ]
     },
     "metadata": {},
     "output_type": "display_data"
    }
   ],
   "source": [
    "df_indice<-df[, c(\"Illiteracy\", \"Murder\")]\n",
    "head(df_indice)"
   ]
  },
  {
   "cell_type": "code",
   "execution_count": 26,
   "id": "37444fa5-1a73-4034-8e82-7cbab5b648fb",
   "metadata": {},
   "outputs": [
    {
     "data": {
      "text/html": [
       "<table class=\"dataframe\">\n",
       "<caption>A data.frame: 6 × 3</caption>\n",
       "<thead>\n",
       "\t<tr><th></th><th scope=col>Illiteracy</th><th scope=col>Murder</th><th scope=col>ilit_murd</th></tr>\n",
       "\t<tr><th></th><th scope=col>&lt;dbl&gt;</th><th scope=col>&lt;dbl&gt;</th><th scope=col>&lt;dbl&gt;</th></tr>\n",
       "</thead>\n",
       "<tbody>\n",
       "\t<tr><th scope=row>Alabama</th><td>2.1</td><td>15.1</td><td>17.2</td></tr>\n",
       "\t<tr><th scope=row>Alaska</th><td>1.5</td><td>11.3</td><td>12.8</td></tr>\n",
       "\t<tr><th scope=row>Arizona</th><td>1.8</td><td> 7.8</td><td> 9.6</td></tr>\n",
       "\t<tr><th scope=row>Arkansas</th><td>1.9</td><td>10.1</td><td>12.0</td></tr>\n",
       "\t<tr><th scope=row>California</th><td>1.1</td><td>10.3</td><td>11.4</td></tr>\n",
       "\t<tr><th scope=row>Colorado</th><td>0.7</td><td> 6.8</td><td> 7.5</td></tr>\n",
       "</tbody>\n",
       "</table>\n"
      ],
      "text/latex": [
       "A data.frame: 6 × 3\n",
       "\\begin{tabular}{r|lll}\n",
       "  & Illiteracy & Murder & ilit\\_murd\\\\\n",
       "  & <dbl> & <dbl> & <dbl>\\\\\n",
       "\\hline\n",
       "\tAlabama & 2.1 & 15.1 & 17.2\\\\\n",
       "\tAlaska & 1.5 & 11.3 & 12.8\\\\\n",
       "\tArizona & 1.8 &  7.8 &  9.6\\\\\n",
       "\tArkansas & 1.9 & 10.1 & 12.0\\\\\n",
       "\tCalifornia & 1.1 & 10.3 & 11.4\\\\\n",
       "\tColorado & 0.7 &  6.8 &  7.5\\\\\n",
       "\\end{tabular}\n"
      ],
      "text/markdown": [
       "\n",
       "A data.frame: 6 × 3\n",
       "\n",
       "| <!--/--> | Illiteracy &lt;dbl&gt; | Murder &lt;dbl&gt; | ilit_murd &lt;dbl&gt; |\n",
       "|---|---|---|---|\n",
       "| Alabama | 2.1 | 15.1 | 17.2 |\n",
       "| Alaska | 1.5 | 11.3 | 12.8 |\n",
       "| Arizona | 1.8 |  7.8 |  9.6 |\n",
       "| Arkansas | 1.9 | 10.1 | 12.0 |\n",
       "| California | 1.1 | 10.3 | 11.4 |\n",
       "| Colorado | 0.7 |  6.8 |  7.5 |\n",
       "\n"
      ],
      "text/plain": [
       "           Illiteracy Murder ilit_murd\n",
       "Alabama    2.1        15.1   17.2     \n",
       "Alaska     1.5        11.3   12.8     \n",
       "Arizona    1.8         7.8    9.6     \n",
       "Arkansas   1.9        10.1   12.0     \n",
       "California 1.1        10.3   11.4     \n",
       "Colorado   0.7         6.8    7.5     "
      ]
     },
     "metadata": {},
     "output_type": "display_data"
    }
   ],
   "source": [
    "df_indice$ilit_murd <- df_indice$Illiteracy + df_indice$Murder\n",
    "head(df_indice)"
   ]
  },
  {
   "cell_type": "code",
   "execution_count": 27,
   "id": "f227ad58-390b-4a1f-a6be-b665690c0896",
   "metadata": {},
   "outputs": [
    {
     "name": "stdout",
     "output_type": "stream",
     "text": [
      "17.2 2.2"
     ]
    }
   ],
   "source": [
    "minimo = min(df_indice$ilit_murd)\n",
    "maximo = max(df_indice$ilit_murd)\n",
    "\n",
    "cat(maximo, minimo)"
   ]
  },
  {
   "cell_type": "code",
   "execution_count": 32,
   "id": "28cf60f8-848b-4008-a1fb-dd4991a332e7",
   "metadata": {},
   "outputs": [
    {
     "data": {
      "text/html": [
       "11"
      ],
      "text/latex": [
       "11"
      ],
      "text/markdown": [
       "11"
      ],
      "text/plain": [
       "[1] 11"
      ]
     },
     "metadata": {},
     "output_type": "display_data"
    }
   ],
   "source": [
    "OBJETO <- 5 + 6\n",
    "OBJETO"
   ]
  },
  {
   "cell_type": "code",
   "execution_count": 45,
   "id": "c24daf3b-740e-4586-bb9c-35c67c171ec0",
   "metadata": {},
   "outputs": [
    {
     "data": {
      "text/html": [
       "<style>\n",
       ".list-inline {list-style: none; margin:0; padding: 0}\n",
       ".list-inline>li {display: inline-block}\n",
       ".list-inline>li:not(:last-child)::after {content: \"\\00b7\"; padding: 0 .5ex}\n",
       "</style>\n",
       "<ol class=list-inline><li>7</li><li>1</li><li>2</li><li>8</li><li>7</li></ol>\n"
      ],
      "text/latex": [
       "\\begin{enumerate*}\n",
       "\\item 7\n",
       "\\item 1\n",
       "\\item 2\n",
       "\\item 8\n",
       "\\item 7\n",
       "\\end{enumerate*}\n"
      ],
      "text/markdown": [
       "1. 7\n",
       "2. 1\n",
       "3. 2\n",
       "4. 8\n",
       "5. 7\n",
       "\n",
       "\n"
      ],
      "text/plain": [
       "[1] 7 1 2 8 7"
      ]
     },
     "metadata": {},
     "output_type": "display_data"
    }
   ],
   "source": [
    "VEC0 <- sample(1:10, size = 5, replace = TRUE)\n",
    "VEC0"
   ]
  },
  {
   "cell_type": "code",
   "execution_count": 49,
   "id": "132b10c7-c944-4f32-b834-817f4909a435",
   "metadata": {},
   "outputs": [],
   "source": [
    "VEC1 <- c(VEC0*2)\n",
    "VEC2 <- c(VEC0 **2)\n",
    "VEC3 <- c(VEC0 - 2)"
   ]
  },
  {
   "cell_type": "code",
   "execution_count": 51,
   "id": "6e9fd3e9-3881-4e4f-8a8c-c1fa125d5041",
   "metadata": {},
   "outputs": [
    {
     "data": {
      "text/html": [
       "<style>\n",
       ".list-inline {list-style: none; margin:0; padding: 0}\n",
       ".list-inline>li {display: inline-block}\n",
       ".list-inline>li:not(:last-child)::after {content: \"\\00b7\"; padding: 0 .5ex}\n",
       "</style>\n",
       "<ol class=list-inline><li>14</li><li>2</li><li>4</li><li>16</li><li>14</li></ol>\n"
      ],
      "text/latex": [
       "\\begin{enumerate*}\n",
       "\\item 14\n",
       "\\item 2\n",
       "\\item 4\n",
       "\\item 16\n",
       "\\item 14\n",
       "\\end{enumerate*}\n"
      ],
      "text/markdown": [
       "1. 14\n",
       "2. 2\n",
       "3. 4\n",
       "4. 16\n",
       "5. 14\n",
       "\n",
       "\n"
      ],
      "text/plain": [
       "[1] 14  2  4 16 14"
      ]
     },
     "metadata": {},
     "output_type": "display_data"
    }
   ],
   "source": [
    "VEC1"
   ]
  },
  {
   "cell_type": "code",
   "execution_count": 52,
   "id": "8c96bf3b-7ab3-458b-adb7-53d40b00d35b",
   "metadata": {},
   "outputs": [
    {
     "data": {
      "text/html": [
       "<style>\n",
       ".list-inline {list-style: none; margin:0; padding: 0}\n",
       ".list-inline>li {display: inline-block}\n",
       ".list-inline>li:not(:last-child)::after {content: \"\\00b7\"; padding: 0 .5ex}\n",
       "</style>\n",
       "<ol class=list-inline><li>49</li><li>1</li><li>4</li><li>64</li><li>49</li></ol>\n"
      ],
      "text/latex": [
       "\\begin{enumerate*}\n",
       "\\item 49\n",
       "\\item 1\n",
       "\\item 4\n",
       "\\item 64\n",
       "\\item 49\n",
       "\\end{enumerate*}\n"
      ],
      "text/markdown": [
       "1. 49\n",
       "2. 1\n",
       "3. 4\n",
       "4. 64\n",
       "5. 49\n",
       "\n",
       "\n"
      ],
      "text/plain": [
       "[1] 49  1  4 64 49"
      ]
     },
     "metadata": {},
     "output_type": "display_data"
    }
   ],
   "source": [
    "VEC2"
   ]
  },
  {
   "cell_type": "code",
   "execution_count": 53,
   "id": "5617e599-dd07-477a-8bbd-500a4839ab96",
   "metadata": {},
   "outputs": [
    {
     "data": {
      "text/html": [
       "<style>\n",
       ".list-inline {list-style: none; margin:0; padding: 0}\n",
       ".list-inline>li {display: inline-block}\n",
       ".list-inline>li:not(:last-child)::after {content: \"\\00b7\"; padding: 0 .5ex}\n",
       "</style>\n",
       "<ol class=list-inline><li>5</li><li>-1</li><li>0</li><li>6</li><li>5</li></ol>\n"
      ],
      "text/latex": [
       "\\begin{enumerate*}\n",
       "\\item 5\n",
       "\\item -1\n",
       "\\item 0\n",
       "\\item 6\n",
       "\\item 5\n",
       "\\end{enumerate*}\n"
      ],
      "text/markdown": [
       "1. 5\n",
       "2. -1\n",
       "3. 0\n",
       "4. 6\n",
       "5. 5\n",
       "\n",
       "\n"
      ],
      "text/plain": [
       "[1]  5 -1  0  6  5"
      ]
     },
     "metadata": {},
     "output_type": "display_data"
    }
   ],
   "source": [
    "VEC3"
   ]
  },
  {
   "cell_type": "code",
   "execution_count": 54,
   "id": "12006a78-992f-4da0-82d1-268074210c2b",
   "metadata": {},
   "outputs": [],
   "source": [
    "VEC4 <- rep('cac', 5)\n",
    "VEC5 <- rep('gac', 5)\n",
    "VEC6 <- rep('gag', 5)"
   ]
  },
  {
   "cell_type": "code",
   "execution_count": 56,
   "id": "58266714-10e9-4156-9863-1152793c17f9",
   "metadata": {},
   "outputs": [
    {
     "data": {
      "text/html": [
       "<style>\n",
       ".list-inline {list-style: none; margin:0; padding: 0}\n",
       ".list-inline>li {display: inline-block}\n",
       ".list-inline>li:not(:last-child)::after {content: \"\\00b7\"; padding: 0 .5ex}\n",
       "</style>\n",
       "<ol class=list-inline><li>'cac'</li><li>'cac'</li><li>'cac'</li><li>'cac'</li><li>'cac'</li></ol>\n"
      ],
      "text/latex": [
       "\\begin{enumerate*}\n",
       "\\item 'cac'\n",
       "\\item 'cac'\n",
       "\\item 'cac'\n",
       "\\item 'cac'\n",
       "\\item 'cac'\n",
       "\\end{enumerate*}\n"
      ],
      "text/markdown": [
       "1. 'cac'\n",
       "2. 'cac'\n",
       "3. 'cac'\n",
       "4. 'cac'\n",
       "5. 'cac'\n",
       "\n",
       "\n"
      ],
      "text/plain": [
       "[1] \"cac\" \"cac\" \"cac\" \"cac\" \"cac\""
      ]
     },
     "metadata": {},
     "output_type": "display_data"
    }
   ],
   "source": [
    "VEC4"
   ]
  },
  {
   "cell_type": "code",
   "execution_count": 57,
   "id": "0d46f941-d045-43b2-a66c-f1be891fc2d1",
   "metadata": {},
   "outputs": [
    {
     "data": {
      "text/html": [
       "<style>\n",
       ".list-inline {list-style: none; margin:0; padding: 0}\n",
       ".list-inline>li {display: inline-block}\n",
       ".list-inline>li:not(:last-child)::after {content: \"\\00b7\"; padding: 0 .5ex}\n",
       "</style>\n",
       "<ol class=list-inline><li>'gac'</li><li>'gac'</li><li>'gac'</li><li>'gac'</li><li>'gac'</li></ol>\n"
      ],
      "text/latex": [
       "\\begin{enumerate*}\n",
       "\\item 'gac'\n",
       "\\item 'gac'\n",
       "\\item 'gac'\n",
       "\\item 'gac'\n",
       "\\item 'gac'\n",
       "\\end{enumerate*}\n"
      ],
      "text/markdown": [
       "1. 'gac'\n",
       "2. 'gac'\n",
       "3. 'gac'\n",
       "4. 'gac'\n",
       "5. 'gac'\n",
       "\n",
       "\n"
      ],
      "text/plain": [
       "[1] \"gac\" \"gac\" \"gac\" \"gac\" \"gac\""
      ]
     },
     "metadata": {},
     "output_type": "display_data"
    }
   ],
   "source": [
    "VEC5"
   ]
  },
  {
   "cell_type": "code",
   "execution_count": 58,
   "id": "c64dc7ae-a455-4697-9f52-495ed5a6ee2b",
   "metadata": {},
   "outputs": [
    {
     "data": {
      "text/html": [
       "<style>\n",
       ".list-inline {list-style: none; margin:0; padding: 0}\n",
       ".list-inline>li {display: inline-block}\n",
       ".list-inline>li:not(:last-child)::after {content: \"\\00b7\"; padding: 0 .5ex}\n",
       "</style>\n",
       "<ol class=list-inline><li>'gag'</li><li>'gag'</li><li>'gag'</li><li>'gag'</li><li>'gag'</li></ol>\n"
      ],
      "text/latex": [
       "\\begin{enumerate*}\n",
       "\\item 'gag'\n",
       "\\item 'gag'\n",
       "\\item 'gag'\n",
       "\\item 'gag'\n",
       "\\item 'gag'\n",
       "\\end{enumerate*}\n"
      ],
      "text/markdown": [
       "1. 'gag'\n",
       "2. 'gag'\n",
       "3. 'gag'\n",
       "4. 'gag'\n",
       "5. 'gag'\n",
       "\n",
       "\n"
      ],
      "text/plain": [
       "[1] \"gag\" \"gag\" \"gag\" \"gag\" \"gag\""
      ]
     },
     "metadata": {},
     "output_type": "display_data"
    }
   ],
   "source": [
    "VEC6"
   ]
  },
  {
   "cell_type": "code",
   "execution_count": 71,
   "id": "0da68dfa-4dee-46e9-9d21-ee9adc161e73",
   "metadata": {},
   "outputs": [],
   "source": [
    "VECTOR <- c('vec1', 'vec2', 'vec3', 'vec4', 'vec5')\n",
    "\n",
    "DFRAME <- data.frame(\n",
    "  VECTOR = VECTOR,\n",
    "  VEC0 = VEC0,\n",
    "  VEC1 = VEC1,\n",
    "  VEC2 = VEC2,\n",
    "  VEC3 = VEC3,\n",
    "  VEC4 = VEC4,\n",
    "  VEC5 = VEC5,\n",
    "  VEC6 = VEC6\n",
    ")"
   ]
  },
  {
   "cell_type": "code",
   "execution_count": 72,
   "id": "0e99a76d-ffd0-4e99-8473-5b2d53830f4f",
   "metadata": {},
   "outputs": [
    {
     "data": {
      "text/html": [
       "<table class=\"dataframe\">\n",
       "<caption>A data.frame: 5 × 8</caption>\n",
       "<thead>\n",
       "\t<tr><th scope=col>VECTOR</th><th scope=col>VEC0</th><th scope=col>VEC1</th><th scope=col>VEC2</th><th scope=col>VEC3</th><th scope=col>VEC4</th><th scope=col>VEC5</th><th scope=col>VEC6</th></tr>\n",
       "\t<tr><th scope=col>&lt;chr&gt;</th><th scope=col>&lt;int&gt;</th><th scope=col>&lt;dbl&gt;</th><th scope=col>&lt;dbl&gt;</th><th scope=col>&lt;dbl&gt;</th><th scope=col>&lt;chr&gt;</th><th scope=col>&lt;chr&gt;</th><th scope=col>&lt;chr&gt;</th></tr>\n",
       "</thead>\n",
       "<tbody>\n",
       "\t<tr><td>vec1</td><td>7</td><td>14</td><td>49</td><td> 5</td><td>cac</td><td>gac</td><td>gag</td></tr>\n",
       "\t<tr><td>vec2</td><td>1</td><td> 2</td><td> 1</td><td>-1</td><td>cac</td><td>gac</td><td>gag</td></tr>\n",
       "\t<tr><td>vec3</td><td>2</td><td> 4</td><td> 4</td><td> 0</td><td>cac</td><td>gac</td><td>gag</td></tr>\n",
       "\t<tr><td>vec4</td><td>8</td><td>16</td><td>64</td><td> 6</td><td>cac</td><td>gac</td><td>gag</td></tr>\n",
       "\t<tr><td>vec5</td><td>7</td><td>14</td><td>49</td><td> 5</td><td>cac</td><td>gac</td><td>gag</td></tr>\n",
       "</tbody>\n",
       "</table>\n"
      ],
      "text/latex": [
       "A data.frame: 5 × 8\n",
       "\\begin{tabular}{llllllll}\n",
       " VECTOR & VEC0 & VEC1 & VEC2 & VEC3 & VEC4 & VEC5 & VEC6\\\\\n",
       " <chr> & <int> & <dbl> & <dbl> & <dbl> & <chr> & <chr> & <chr>\\\\\n",
       "\\hline\n",
       "\t vec1 & 7 & 14 & 49 &  5 & cac & gac & gag\\\\\n",
       "\t vec2 & 1 &  2 &  1 & -1 & cac & gac & gag\\\\\n",
       "\t vec3 & 2 &  4 &  4 &  0 & cac & gac & gag\\\\\n",
       "\t vec4 & 8 & 16 & 64 &  6 & cac & gac & gag\\\\\n",
       "\t vec5 & 7 & 14 & 49 &  5 & cac & gac & gag\\\\\n",
       "\\end{tabular}\n"
      ],
      "text/markdown": [
       "\n",
       "A data.frame: 5 × 8\n",
       "\n",
       "| VECTOR &lt;chr&gt; | VEC0 &lt;int&gt; | VEC1 &lt;dbl&gt; | VEC2 &lt;dbl&gt; | VEC3 &lt;dbl&gt; | VEC4 &lt;chr&gt; | VEC5 &lt;chr&gt; | VEC6 &lt;chr&gt; |\n",
       "|---|---|---|---|---|---|---|---|\n",
       "| vec1 | 7 | 14 | 49 |  5 | cac | gac | gag |\n",
       "| vec2 | 1 |  2 |  1 | -1 | cac | gac | gag |\n",
       "| vec3 | 2 |  4 |  4 |  0 | cac | gac | gag |\n",
       "| vec4 | 8 | 16 | 64 |  6 | cac | gac | gag |\n",
       "| vec5 | 7 | 14 | 49 |  5 | cac | gac | gag |\n",
       "\n"
      ],
      "text/plain": [
       "  VECTOR VEC0 VEC1 VEC2 VEC3 VEC4 VEC5 VEC6\n",
       "1 vec1   7    14   49    5   cac  gac  gag \n",
       "2 vec2   1     2    1   -1   cac  gac  gag \n",
       "3 vec3   2     4    4    0   cac  gac  gag \n",
       "4 vec4   8    16   64    6   cac  gac  gag \n",
       "5 vec5   7    14   49    5   cac  gac  gag "
      ]
     },
     "metadata": {},
     "output_type": "display_data"
    }
   ],
   "source": [
    "DFRAME"
   ]
  },
  {
   "cell_type": "code",
   "execution_count": 74,
   "id": "c59e90eb-f04a-4ace-80bd-d67665d24560",
   "metadata": {},
   "outputs": [
    {
     "data": {
      "text/html": [
       "<ol>\n",
       "\t<li>11</li>\n",
       "\t<li><style>\n",
       ".list-inline {list-style: none; margin:0; padding: 0}\n",
       ".list-inline>li {display: inline-block}\n",
       ".list-inline>li:not(:last-child)::after {content: \"\\00b7\"; padding: 0 .5ex}\n",
       "</style>\n",
       "<ol class=list-inline><li>7</li><li>1</li><li>2</li><li>8</li><li>7</li></ol>\n",
       "</li>\n",
       "\t<li><table class=\"dataframe\">\n",
       "<caption>A data.frame: 5 × 8</caption>\n",
       "<thead>\n",
       "\t<tr><th scope=col>VECTOR</th><th scope=col>VEC0</th><th scope=col>VEC1</th><th scope=col>VEC2</th><th scope=col>VEC3</th><th scope=col>VEC4</th><th scope=col>VEC5</th><th scope=col>VEC6</th></tr>\n",
       "\t<tr><th scope=col>&lt;chr&gt;</th><th scope=col>&lt;int&gt;</th><th scope=col>&lt;dbl&gt;</th><th scope=col>&lt;dbl&gt;</th><th scope=col>&lt;dbl&gt;</th><th scope=col>&lt;chr&gt;</th><th scope=col>&lt;chr&gt;</th><th scope=col>&lt;chr&gt;</th></tr>\n",
       "</thead>\n",
       "<tbody>\n",
       "\t<tr><td>vec1</td><td>7</td><td>14</td><td>49</td><td> 5</td><td>cac</td><td>gac</td><td>gag</td></tr>\n",
       "\t<tr><td>vec2</td><td>1</td><td> 2</td><td> 1</td><td>-1</td><td>cac</td><td>gac</td><td>gag</td></tr>\n",
       "\t<tr><td>vec3</td><td>2</td><td> 4</td><td> 4</td><td> 0</td><td>cac</td><td>gac</td><td>gag</td></tr>\n",
       "\t<tr><td>vec4</td><td>8</td><td>16</td><td>64</td><td> 6</td><td>cac</td><td>gac</td><td>gag</td></tr>\n",
       "\t<tr><td>vec5</td><td>7</td><td>14</td><td>49</td><td> 5</td><td>cac</td><td>gac</td><td>gag</td></tr>\n",
       "</tbody>\n",
       "</table>\n",
       "</li>\n",
       "</ol>\n"
      ],
      "text/latex": [
       "\\begin{enumerate}\n",
       "\\item 11\n",
       "\\item \\begin{enumerate*}\n",
       "\\item 7\n",
       "\\item 1\n",
       "\\item 2\n",
       "\\item 8\n",
       "\\item 7\n",
       "\\end{enumerate*}\n",
       "\n",
       "\\item A data.frame: 5 × 8\n",
       "\\begin{tabular}{llllllll}\n",
       " VECTOR & VEC0 & VEC1 & VEC2 & VEC3 & VEC4 & VEC5 & VEC6\\\\\n",
       " <chr> & <int> & <dbl> & <dbl> & <dbl> & <chr> & <chr> & <chr>\\\\\n",
       "\\hline\n",
       "\t vec1 & 7 & 14 & 49 &  5 & cac & gac & gag\\\\\n",
       "\t vec2 & 1 &  2 &  1 & -1 & cac & gac & gag\\\\\n",
       "\t vec3 & 2 &  4 &  4 &  0 & cac & gac & gag\\\\\n",
       "\t vec4 & 8 & 16 & 64 &  6 & cac & gac & gag\\\\\n",
       "\t vec5 & 7 & 14 & 49 &  5 & cac & gac & gag\\\\\n",
       "\\end{tabular}\n",
       "\n",
       "\\end{enumerate}\n"
      ],
      "text/markdown": [
       "1. 11\n",
       "2. 1. 7\n",
       "2. 1\n",
       "3. 2\n",
       "4. 8\n",
       "5. 7\n",
       "\n",
       "\n",
       "\n",
       "3. \n",
       "A data.frame: 5 × 8\n",
       "\n",
       "| VECTOR &lt;chr&gt; | VEC0 &lt;int&gt; | VEC1 &lt;dbl&gt; | VEC2 &lt;dbl&gt; | VEC3 &lt;dbl&gt; | VEC4 &lt;chr&gt; | VEC5 &lt;chr&gt; | VEC6 &lt;chr&gt; |\n",
       "|---|---|---|---|---|---|---|---|\n",
       "| vec1 | 7 | 14 | 49 |  5 | cac | gac | gag |\n",
       "| vec2 | 1 |  2 |  1 | -1 | cac | gac | gag |\n",
       "| vec3 | 2 |  4 |  4 |  0 | cac | gac | gag |\n",
       "| vec4 | 8 | 16 | 64 |  6 | cac | gac | gag |\n",
       "| vec5 | 7 | 14 | 49 |  5 | cac | gac | gag |\n",
       "\n",
       "\n",
       "\n",
       "\n"
      ],
      "text/plain": [
       "[[1]]\n",
       "[1] 11\n",
       "\n",
       "[[2]]\n",
       "[1] 7 1 2 8 7\n",
       "\n",
       "[[3]]\n",
       "  VECTOR VEC0 VEC1 VEC2 VEC3 VEC4 VEC5 VEC6\n",
       "1   vec1    7   14   49    5  cac  gac  gag\n",
       "2   vec2    1    2    1   -1  cac  gac  gag\n",
       "3   vec3    2    4    4    0  cac  gac  gag\n",
       "4   vec4    8   16   64    6  cac  gac  gag\n",
       "5   vec5    7   14   49    5  cac  gac  gag\n"
      ]
     },
     "metadata": {},
     "output_type": "display_data"
    }
   ],
   "source": [
    "LA_LISTA <- list(OBJETO, VEC0, DFRAME)\n",
    "LA_LISTA"
   ]
  },
  {
   "cell_type": "code",
   "execution_count": 77,
   "id": "3d4537ae-d1db-4196-b754-04b2fea470fa",
   "metadata": {},
   "outputs": [
    {
     "name": "stdout",
     "output_type": "stream",
     "text": [
      "[1] 21\n",
      "[1] 3\n",
      "[1] 6\n",
      "[1] 24\n",
      "[1] 21\n"
     ]
    }
   ],
   "source": [
    "for (value in VEC0) {\n",
    "  print(value * 3)\n",
    "}"
   ]
  },
  {
   "cell_type": "code",
   "execution_count": 86,
   "id": "3a09b6ad-bc3b-4920-91fb-cd8423b3cc9b",
   "metadata": {},
   "outputs": [
    {
     "name": "stdout",
     "output_type": "stream",
     "text": [
      "gag 7\n",
      "gag 1\n",
      "gag 2\n",
      "gag 8\n",
      "gag 7\n"
     ]
    }
   ],
   "source": [
    "combined <- mapply(function(x, y) paste(x, y), DFRAME$VEC6, DFRAME$VEC0)\n",
    "cat(combined, sep = \"\\n\")"
   ]
  },
  {
   "cell_type": "markdown",
   "id": "54e25e10-640d-4de5-8f90-7129d38263ea",
   "metadata": {},
   "source": [
    "Reescribir el VEC1 del DATAFRAME para que sus elementos sean: el doble de VEC_0 cuando éste sea mayor a 2 e iguales a VEC_0 para el resto de los casos. Hint: usar la función ifelse()"
   ]
  },
  {
   "cell_type": "code",
   "execution_count": 89,
   "id": "7ca3e798-75ab-493a-aeb3-04dab521f40a",
   "metadata": {},
   "outputs": [
    {
     "data": {
      "text/html": [
       "<style>\n",
       ".list-inline {list-style: none; margin:0; padding: 0}\n",
       ".list-inline>li {display: inline-block}\n",
       ".list-inline>li:not(:last-child)::after {content: \"\\00b7\"; padding: 0 .5ex}\n",
       "</style>\n",
       "<ol class=list-inline><li>14</li><li>1</li><li>2</li><li>16</li><li>14</li></ol>\n"
      ],
      "text/latex": [
       "\\begin{enumerate*}\n",
       "\\item 14\n",
       "\\item 1\n",
       "\\item 2\n",
       "\\item 16\n",
       "\\item 14\n",
       "\\end{enumerate*}\n"
      ],
      "text/markdown": [
       "1. 14\n",
       "2. 1\n",
       "3. 2\n",
       "4. 16\n",
       "5. 14\n",
       "\n",
       "\n"
      ],
      "text/plain": [
       "[1] 14  1  2 16 14"
      ]
     },
     "metadata": {},
     "output_type": "display_data"
    }
   ],
   "source": [
    "DFRAME$VEC1 <- ifelse(DFRAME$VEC0 > 2, DFRAME$VEC0 * 2, DFRAME$VEC0)\n",
    "DFRAME$VEC1"
   ]
  },
  {
   "cell_type": "code",
   "execution_count": 91,
   "id": "db15f9ae-1253-48a0-99cd-0cee9638a085",
   "metadata": {},
   "outputs": [
    {
     "data": {
      "text/html": [
       "<pre class=language-r><code>function (Hola_Mundo) \n",
       "{\n",
       "<span style=white-space:pre-wrap>    print(\"Hola Mundo\")</span>\n",
       "}</code></pre>"
      ],
      "text/latex": [
       "\\begin{minted}{r}\n",
       "function (Hola\\_Mundo) \n",
       "\\{\n",
       "    print(\"Hola Mundo\")\n",
       "\\}\n",
       "\\end{minted}"
      ],
      "text/markdown": [
       "```r\n",
       "function (Hola_Mundo) \n",
       "{\n",
       "    print(\"Hola Mundo\")\n",
       "}\n",
       "```"
      ],
      "text/plain": [
       "function(Hola_Mundo){\n",
       "    print('Hola Mundo')\n",
       "    }"
      ]
     },
     "metadata": {},
     "output_type": "display_data"
    }
   ],
   "source": [
    "Hola_Mundo <- function() {\n",
    "  print(\"Hola mundo\")\n",
    "}"
   ]
  },
  {
   "cell_type": "code",
   "execution_count": 92,
   "id": "ba5f2f36-354d-4392-9188-0eeef4bac8d8",
   "metadata": {},
   "outputs": [],
   "source": [
    "Sumatoria_enteros <- function(x){\n",
    "    print(sum(seq(1, x)))\n",
    "    }"
   ]
  },
  {
   "cell_type": "code",
   "execution_count": 93,
   "id": "42ddea0a-c052-4262-8de5-443e884fb478",
   "metadata": {},
   "outputs": [
    {
     "name": "stdout",
     "output_type": "stream",
     "text": [
      "[1] 15\n"
     ]
    }
   ],
   "source": [
    "Sumatoria_enteros(5)"
   ]
  },
  {
   "cell_type": "code",
   "execution_count": 114,
   "id": "c9999c23-f6d2-4893-9824-ac5d55b25ff0",
   "metadata": {},
   "outputs": [
    {
     "name": "stdout",
     "output_type": "stream",
     "text": [
      "14$dimensions\n",
      "[1] 5 3\n",
      "\n",
      "$message\n",
      "[1] \"El primer elemento es par\"\n",
      "\n"
     ]
    }
   ],
   "source": [
    "primer_elem_matriz <- function(X) {\n",
    "\n",
    "  if (!is.matrix(X)) {\n",
    "    stop(\"El parámetro X debe ser una matriz\")\n",
    "  }\n",
    "  \n",
    "\n",
    "  dims <- dim(X)\n",
    "  \n",
    "  cat(X[1])\n",
    "  if (X[1] %% 2 == 0) {\n",
    "    paridad <- \"El primer elemento es par\"\n",
    "  } else {\n",
    "    paridad <- \"El primer elemento no es par\"\n",
    "  }\n",
    "  \n",
    "  list(dimensions = dims, message = paridad)\n",
    "}\n",
    "\n",
    "selected_df <- DFRAME[, c(\"VEC1\", \"VEC2\", \"VEC3\")]\n",
    "matriz_DFRAME <- as.matrix(selected_df)\n",
    "resultado <- primer_elem_matriz(matriz_DFRAME)\n",
    "print(resultado)"
   ]
  },
  {
   "cell_type": "code",
   "execution_count": null,
   "id": "f7f94c04-782d-4aec-a7ea-73943d304629",
   "metadata": {},
   "outputs": [],
   "source": []
  }
 ],
 "metadata": {
  "kernelspec": {
   "display_name": "R",
   "language": "R",
   "name": "ir"
  },
  "language_info": {
   "codemirror_mode": "r",
   "file_extension": ".r",
   "mimetype": "text/x-r-source",
   "name": "R",
   "pygments_lexer": "r",
   "version": "4.4.1"
  }
 },
 "nbformat": 4,
 "nbformat_minor": 5
}
