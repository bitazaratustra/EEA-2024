{
 "cells": [
  {
   "cell_type": "code",
   "execution_count": 76,
   "id": "0083764c",
   "metadata": {
    "scrolled": true
   },
   "outputs": [
    {
     "name": "stderr",
     "output_type": "stream",
     "text": [
      "also installing the dependencies ‘pkgconfig’, ‘withr’, ‘generics’, ‘magrittr’, ‘R6’, ‘tibble’, ‘tidyselect’\n",
      "\n",
      "\n"
     ]
    },
    {
     "name": "stdout",
     "output_type": "stream",
     "text": [
      "\n",
      "The downloaded binary packages are in\n",
      "\t/var/folders/s7/6ncckdrj32j81xfl9hjxkzkr0000gn/T//RtmpMbSthy/downloaded_packages\n"
     ]
    }
   ],
   "source": [
    "install.packages('dplyr', repos='http://cran.us.r-project.org')"
   ]
  },
  {
   "cell_type": "code",
   "execution_count": 77,
   "id": "3a6fa5e5",
   "metadata": {},
   "outputs": [
    {
     "name": "stderr",
     "output_type": "stream",
     "text": [
      "\n",
      "Attaching package: ‘dplyr’\n",
      "\n",
      "\n",
      "The following objects are masked from ‘package:stats’:\n",
      "\n",
      "    filter, lag\n",
      "\n",
      "\n",
      "The following objects are masked from ‘package:base’:\n",
      "\n",
      "    intersect, setdiff, setequal, union\n",
      "\n",
      "\n"
     ]
    }
   ],
   "source": [
    "library(dplyr)"
   ]
  },
  {
   "cell_type": "code",
   "execution_count": 1,
   "id": "4ef9d5f9-225a-469e-bd2c-d840988e3fcd",
   "metadata": {},
   "outputs": [],
   "source": [
    "df <- as.data.frame(state.x77)"
   ]
  },
  {
   "cell_type": "code",
   "execution_count": 2,
   "id": "06cbc5b9-5a83-4205-bdf9-aaa4426dd3cd",
   "metadata": {},
   "outputs": [
    {
     "data": {
      "text/html": [
       "<table class=\"dataframe\">\n",
       "<caption>A data.frame: 50 × 8</caption>\n",
       "<thead>\n",
       "\t<tr><th></th><th scope=col>Population</th><th scope=col>Income</th><th scope=col>Illiteracy</th><th scope=col>Life Exp</th><th scope=col>Murder</th><th scope=col>HS Grad</th><th scope=col>Frost</th><th scope=col>Area</th></tr>\n",
       "\t<tr><th></th><th scope=col>&lt;dbl&gt;</th><th scope=col>&lt;dbl&gt;</th><th scope=col>&lt;dbl&gt;</th><th scope=col>&lt;dbl&gt;</th><th scope=col>&lt;dbl&gt;</th><th scope=col>&lt;dbl&gt;</th><th scope=col>&lt;dbl&gt;</th><th scope=col>&lt;dbl&gt;</th></tr>\n",
       "</thead>\n",
       "<tbody>\n",
       "\t<tr><th scope=row>Alabama</th><td> 3615</td><td>3624</td><td>2.1</td><td>69.05</td><td>15.1</td><td>41.3</td><td> 20</td><td> 50708</td></tr>\n",
       "\t<tr><th scope=row>Alaska</th><td>  365</td><td>6315</td><td>1.5</td><td>69.31</td><td>11.3</td><td>66.7</td><td>152</td><td>566432</td></tr>\n",
       "\t<tr><th scope=row>Arizona</th><td> 2212</td><td>4530</td><td>1.8</td><td>70.55</td><td> 7.8</td><td>58.1</td><td> 15</td><td>113417</td></tr>\n",
       "\t<tr><th scope=row>Arkansas</th><td> 2110</td><td>3378</td><td>1.9</td><td>70.66</td><td>10.1</td><td>39.9</td><td> 65</td><td> 51945</td></tr>\n",
       "\t<tr><th scope=row>California</th><td>21198</td><td>5114</td><td>1.1</td><td>71.71</td><td>10.3</td><td>62.6</td><td> 20</td><td>156361</td></tr>\n",
       "\t<tr><th scope=row>Colorado</th><td> 2541</td><td>4884</td><td>0.7</td><td>72.06</td><td> 6.8</td><td>63.9</td><td>166</td><td>103766</td></tr>\n",
       "\t<tr><th scope=row>Connecticut</th><td> 3100</td><td>5348</td><td>1.1</td><td>72.48</td><td> 3.1</td><td>56.0</td><td>139</td><td>  4862</td></tr>\n",
       "\t<tr><th scope=row>Delaware</th><td>  579</td><td>4809</td><td>0.9</td><td>70.06</td><td> 6.2</td><td>54.6</td><td>103</td><td>  1982</td></tr>\n",
       "\t<tr><th scope=row>Florida</th><td> 8277</td><td>4815</td><td>1.3</td><td>70.66</td><td>10.7</td><td>52.6</td><td> 11</td><td> 54090</td></tr>\n",
       "\t<tr><th scope=row>Georgia</th><td> 4931</td><td>4091</td><td>2.0</td><td>68.54</td><td>13.9</td><td>40.6</td><td> 60</td><td> 58073</td></tr>\n",
       "\t<tr><th scope=row>Hawaii</th><td>  868</td><td>4963</td><td>1.9</td><td>73.60</td><td> 6.2</td><td>61.9</td><td>  0</td><td>  6425</td></tr>\n",
       "\t<tr><th scope=row>Idaho</th><td>  813</td><td>4119</td><td>0.6</td><td>71.87</td><td> 5.3</td><td>59.5</td><td>126</td><td> 82677</td></tr>\n",
       "\t<tr><th scope=row>Illinois</th><td>11197</td><td>5107</td><td>0.9</td><td>70.14</td><td>10.3</td><td>52.6</td><td>127</td><td> 55748</td></tr>\n",
       "\t<tr><th scope=row>Indiana</th><td> 5313</td><td>4458</td><td>0.7</td><td>70.88</td><td> 7.1</td><td>52.9</td><td>122</td><td> 36097</td></tr>\n",
       "\t<tr><th scope=row>Iowa</th><td> 2861</td><td>4628</td><td>0.5</td><td>72.56</td><td> 2.3</td><td>59.0</td><td>140</td><td> 55941</td></tr>\n",
       "\t<tr><th scope=row>Kansas</th><td> 2280</td><td>4669</td><td>0.6</td><td>72.58</td><td> 4.5</td><td>59.9</td><td>114</td><td> 81787</td></tr>\n",
       "\t<tr><th scope=row>Kentucky</th><td> 3387</td><td>3712</td><td>1.6</td><td>70.10</td><td>10.6</td><td>38.5</td><td> 95</td><td> 39650</td></tr>\n",
       "\t<tr><th scope=row>Louisiana</th><td> 3806</td><td>3545</td><td>2.8</td><td>68.76</td><td>13.2</td><td>42.2</td><td> 12</td><td> 44930</td></tr>\n",
       "\t<tr><th scope=row>Maine</th><td> 1058</td><td>3694</td><td>0.7</td><td>70.39</td><td> 2.7</td><td>54.7</td><td>161</td><td> 30920</td></tr>\n",
       "\t<tr><th scope=row>Maryland</th><td> 4122</td><td>5299</td><td>0.9</td><td>70.22</td><td> 8.5</td><td>52.3</td><td>101</td><td>  9891</td></tr>\n",
       "\t<tr><th scope=row>Massachusetts</th><td> 5814</td><td>4755</td><td>1.1</td><td>71.83</td><td> 3.3</td><td>58.5</td><td>103</td><td>  7826</td></tr>\n",
       "\t<tr><th scope=row>Michigan</th><td> 9111</td><td>4751</td><td>0.9</td><td>70.63</td><td>11.1</td><td>52.8</td><td>125</td><td> 56817</td></tr>\n",
       "\t<tr><th scope=row>Minnesota</th><td> 3921</td><td>4675</td><td>0.6</td><td>72.96</td><td> 2.3</td><td>57.6</td><td>160</td><td> 79289</td></tr>\n",
       "\t<tr><th scope=row>Mississippi</th><td> 2341</td><td>3098</td><td>2.4</td><td>68.09</td><td>12.5</td><td>41.0</td><td> 50</td><td> 47296</td></tr>\n",
       "\t<tr><th scope=row>Missouri</th><td> 4767</td><td>4254</td><td>0.8</td><td>70.69</td><td> 9.3</td><td>48.8</td><td>108</td><td> 68995</td></tr>\n",
       "\t<tr><th scope=row>Montana</th><td>  746</td><td>4347</td><td>0.6</td><td>70.56</td><td> 5.0</td><td>59.2</td><td>155</td><td>145587</td></tr>\n",
       "\t<tr><th scope=row>Nebraska</th><td> 1544</td><td>4508</td><td>0.6</td><td>72.60</td><td> 2.9</td><td>59.3</td><td>139</td><td> 76483</td></tr>\n",
       "\t<tr><th scope=row>Nevada</th><td>  590</td><td>5149</td><td>0.5</td><td>69.03</td><td>11.5</td><td>65.2</td><td>188</td><td>109889</td></tr>\n",
       "\t<tr><th scope=row>New Hampshire</th><td>  812</td><td>4281</td><td>0.7</td><td>71.23</td><td> 3.3</td><td>57.6</td><td>174</td><td>  9027</td></tr>\n",
       "\t<tr><th scope=row>New Jersey</th><td> 7333</td><td>5237</td><td>1.1</td><td>70.93</td><td> 5.2</td><td>52.5</td><td>115</td><td>  7521</td></tr>\n",
       "\t<tr><th scope=row>New Mexico</th><td> 1144</td><td>3601</td><td>2.2</td><td>70.32</td><td> 9.7</td><td>55.2</td><td>120</td><td>121412</td></tr>\n",
       "\t<tr><th scope=row>New York</th><td>18076</td><td>4903</td><td>1.4</td><td>70.55</td><td>10.9</td><td>52.7</td><td> 82</td><td> 47831</td></tr>\n",
       "\t<tr><th scope=row>North Carolina</th><td> 5441</td><td>3875</td><td>1.8</td><td>69.21</td><td>11.1</td><td>38.5</td><td> 80</td><td> 48798</td></tr>\n",
       "\t<tr><th scope=row>North Dakota</th><td>  637</td><td>5087</td><td>0.8</td><td>72.78</td><td> 1.4</td><td>50.3</td><td>186</td><td> 69273</td></tr>\n",
       "\t<tr><th scope=row>Ohio</th><td>10735</td><td>4561</td><td>0.8</td><td>70.82</td><td> 7.4</td><td>53.2</td><td>124</td><td> 40975</td></tr>\n",
       "\t<tr><th scope=row>Oklahoma</th><td> 2715</td><td>3983</td><td>1.1</td><td>71.42</td><td> 6.4</td><td>51.6</td><td> 82</td><td> 68782</td></tr>\n",
       "\t<tr><th scope=row>Oregon</th><td> 2284</td><td>4660</td><td>0.6</td><td>72.13</td><td> 4.2</td><td>60.0</td><td> 44</td><td> 96184</td></tr>\n",
       "\t<tr><th scope=row>Pennsylvania</th><td>11860</td><td>4449</td><td>1.0</td><td>70.43</td><td> 6.1</td><td>50.2</td><td>126</td><td> 44966</td></tr>\n",
       "\t<tr><th scope=row>Rhode Island</th><td>  931</td><td>4558</td><td>1.3</td><td>71.90</td><td> 2.4</td><td>46.4</td><td>127</td><td>  1049</td></tr>\n",
       "\t<tr><th scope=row>South Carolina</th><td> 2816</td><td>3635</td><td>2.3</td><td>67.96</td><td>11.6</td><td>37.8</td><td> 65</td><td> 30225</td></tr>\n",
       "\t<tr><th scope=row>South Dakota</th><td>  681</td><td>4167</td><td>0.5</td><td>72.08</td><td> 1.7</td><td>53.3</td><td>172</td><td> 75955</td></tr>\n",
       "\t<tr><th scope=row>Tennessee</th><td> 4173</td><td>3821</td><td>1.7</td><td>70.11</td><td>11.0</td><td>41.8</td><td> 70</td><td> 41328</td></tr>\n",
       "\t<tr><th scope=row>Texas</th><td>12237</td><td>4188</td><td>2.2</td><td>70.90</td><td>12.2</td><td>47.4</td><td> 35</td><td>262134</td></tr>\n",
       "\t<tr><th scope=row>Utah</th><td> 1203</td><td>4022</td><td>0.6</td><td>72.90</td><td> 4.5</td><td>67.3</td><td>137</td><td> 82096</td></tr>\n",
       "\t<tr><th scope=row>Vermont</th><td>  472</td><td>3907</td><td>0.6</td><td>71.64</td><td> 5.5</td><td>57.1</td><td>168</td><td>  9267</td></tr>\n",
       "\t<tr><th scope=row>Virginia</th><td> 4981</td><td>4701</td><td>1.4</td><td>70.08</td><td> 9.5</td><td>47.8</td><td> 85</td><td> 39780</td></tr>\n",
       "\t<tr><th scope=row>Washington</th><td> 3559</td><td>4864</td><td>0.6</td><td>71.72</td><td> 4.3</td><td>63.5</td><td> 32</td><td> 66570</td></tr>\n",
       "\t<tr><th scope=row>West Virginia</th><td> 1799</td><td>3617</td><td>1.4</td><td>69.48</td><td> 6.7</td><td>41.6</td><td>100</td><td> 24070</td></tr>\n",
       "\t<tr><th scope=row>Wisconsin</th><td> 4589</td><td>4468</td><td>0.7</td><td>72.48</td><td> 3.0</td><td>54.5</td><td>149</td><td> 54464</td></tr>\n",
       "\t<tr><th scope=row>Wyoming</th><td>  376</td><td>4566</td><td>0.6</td><td>70.29</td><td> 6.9</td><td>62.9</td><td>173</td><td> 97203</td></tr>\n",
       "</tbody>\n",
       "</table>\n"
      ],
      "text/latex": [
       "A data.frame: 50 × 8\n",
       "\\begin{tabular}{r|llllllll}\n",
       "  & Population & Income & Illiteracy & Life Exp & Murder & HS Grad & Frost & Area\\\\\n",
       "  & <dbl> & <dbl> & <dbl> & <dbl> & <dbl> & <dbl> & <dbl> & <dbl>\\\\\n",
       "\\hline\n",
       "\tAlabama &  3615 & 3624 & 2.1 & 69.05 & 15.1 & 41.3 &  20 &  50708\\\\\n",
       "\tAlaska &   365 & 6315 & 1.5 & 69.31 & 11.3 & 66.7 & 152 & 566432\\\\\n",
       "\tArizona &  2212 & 4530 & 1.8 & 70.55 &  7.8 & 58.1 &  15 & 113417\\\\\n",
       "\tArkansas &  2110 & 3378 & 1.9 & 70.66 & 10.1 & 39.9 &  65 &  51945\\\\\n",
       "\tCalifornia & 21198 & 5114 & 1.1 & 71.71 & 10.3 & 62.6 &  20 & 156361\\\\\n",
       "\tColorado &  2541 & 4884 & 0.7 & 72.06 &  6.8 & 63.9 & 166 & 103766\\\\\n",
       "\tConnecticut &  3100 & 5348 & 1.1 & 72.48 &  3.1 & 56.0 & 139 &   4862\\\\\n",
       "\tDelaware &   579 & 4809 & 0.9 & 70.06 &  6.2 & 54.6 & 103 &   1982\\\\\n",
       "\tFlorida &  8277 & 4815 & 1.3 & 70.66 & 10.7 & 52.6 &  11 &  54090\\\\\n",
       "\tGeorgia &  4931 & 4091 & 2.0 & 68.54 & 13.9 & 40.6 &  60 &  58073\\\\\n",
       "\tHawaii &   868 & 4963 & 1.9 & 73.60 &  6.2 & 61.9 &   0 &   6425\\\\\n",
       "\tIdaho &   813 & 4119 & 0.6 & 71.87 &  5.3 & 59.5 & 126 &  82677\\\\\n",
       "\tIllinois & 11197 & 5107 & 0.9 & 70.14 & 10.3 & 52.6 & 127 &  55748\\\\\n",
       "\tIndiana &  5313 & 4458 & 0.7 & 70.88 &  7.1 & 52.9 & 122 &  36097\\\\\n",
       "\tIowa &  2861 & 4628 & 0.5 & 72.56 &  2.3 & 59.0 & 140 &  55941\\\\\n",
       "\tKansas &  2280 & 4669 & 0.6 & 72.58 &  4.5 & 59.9 & 114 &  81787\\\\\n",
       "\tKentucky &  3387 & 3712 & 1.6 & 70.10 & 10.6 & 38.5 &  95 &  39650\\\\\n",
       "\tLouisiana &  3806 & 3545 & 2.8 & 68.76 & 13.2 & 42.2 &  12 &  44930\\\\\n",
       "\tMaine &  1058 & 3694 & 0.7 & 70.39 &  2.7 & 54.7 & 161 &  30920\\\\\n",
       "\tMaryland &  4122 & 5299 & 0.9 & 70.22 &  8.5 & 52.3 & 101 &   9891\\\\\n",
       "\tMassachusetts &  5814 & 4755 & 1.1 & 71.83 &  3.3 & 58.5 & 103 &   7826\\\\\n",
       "\tMichigan &  9111 & 4751 & 0.9 & 70.63 & 11.1 & 52.8 & 125 &  56817\\\\\n",
       "\tMinnesota &  3921 & 4675 & 0.6 & 72.96 &  2.3 & 57.6 & 160 &  79289\\\\\n",
       "\tMississippi &  2341 & 3098 & 2.4 & 68.09 & 12.5 & 41.0 &  50 &  47296\\\\\n",
       "\tMissouri &  4767 & 4254 & 0.8 & 70.69 &  9.3 & 48.8 & 108 &  68995\\\\\n",
       "\tMontana &   746 & 4347 & 0.6 & 70.56 &  5.0 & 59.2 & 155 & 145587\\\\\n",
       "\tNebraska &  1544 & 4508 & 0.6 & 72.60 &  2.9 & 59.3 & 139 &  76483\\\\\n",
       "\tNevada &   590 & 5149 & 0.5 & 69.03 & 11.5 & 65.2 & 188 & 109889\\\\\n",
       "\tNew Hampshire &   812 & 4281 & 0.7 & 71.23 &  3.3 & 57.6 & 174 &   9027\\\\\n",
       "\tNew Jersey &  7333 & 5237 & 1.1 & 70.93 &  5.2 & 52.5 & 115 &   7521\\\\\n",
       "\tNew Mexico &  1144 & 3601 & 2.2 & 70.32 &  9.7 & 55.2 & 120 & 121412\\\\\n",
       "\tNew York & 18076 & 4903 & 1.4 & 70.55 & 10.9 & 52.7 &  82 &  47831\\\\\n",
       "\tNorth Carolina &  5441 & 3875 & 1.8 & 69.21 & 11.1 & 38.5 &  80 &  48798\\\\\n",
       "\tNorth Dakota &   637 & 5087 & 0.8 & 72.78 &  1.4 & 50.3 & 186 &  69273\\\\\n",
       "\tOhio & 10735 & 4561 & 0.8 & 70.82 &  7.4 & 53.2 & 124 &  40975\\\\\n",
       "\tOklahoma &  2715 & 3983 & 1.1 & 71.42 &  6.4 & 51.6 &  82 &  68782\\\\\n",
       "\tOregon &  2284 & 4660 & 0.6 & 72.13 &  4.2 & 60.0 &  44 &  96184\\\\\n",
       "\tPennsylvania & 11860 & 4449 & 1.0 & 70.43 &  6.1 & 50.2 & 126 &  44966\\\\\n",
       "\tRhode Island &   931 & 4558 & 1.3 & 71.90 &  2.4 & 46.4 & 127 &   1049\\\\\n",
       "\tSouth Carolina &  2816 & 3635 & 2.3 & 67.96 & 11.6 & 37.8 &  65 &  30225\\\\\n",
       "\tSouth Dakota &   681 & 4167 & 0.5 & 72.08 &  1.7 & 53.3 & 172 &  75955\\\\\n",
       "\tTennessee &  4173 & 3821 & 1.7 & 70.11 & 11.0 & 41.8 &  70 &  41328\\\\\n",
       "\tTexas & 12237 & 4188 & 2.2 & 70.90 & 12.2 & 47.4 &  35 & 262134\\\\\n",
       "\tUtah &  1203 & 4022 & 0.6 & 72.90 &  4.5 & 67.3 & 137 &  82096\\\\\n",
       "\tVermont &   472 & 3907 & 0.6 & 71.64 &  5.5 & 57.1 & 168 &   9267\\\\\n",
       "\tVirginia &  4981 & 4701 & 1.4 & 70.08 &  9.5 & 47.8 &  85 &  39780\\\\\n",
       "\tWashington &  3559 & 4864 & 0.6 & 71.72 &  4.3 & 63.5 &  32 &  66570\\\\\n",
       "\tWest Virginia &  1799 & 3617 & 1.4 & 69.48 &  6.7 & 41.6 & 100 &  24070\\\\\n",
       "\tWisconsin &  4589 & 4468 & 0.7 & 72.48 &  3.0 & 54.5 & 149 &  54464\\\\\n",
       "\tWyoming &   376 & 4566 & 0.6 & 70.29 &  6.9 & 62.9 & 173 &  97203\\\\\n",
       "\\end{tabular}\n"
      ],
      "text/markdown": [
       "\n",
       "A data.frame: 50 × 8\n",
       "\n",
       "| <!--/--> | Population &lt;dbl&gt; | Income &lt;dbl&gt; | Illiteracy &lt;dbl&gt; | Life Exp &lt;dbl&gt; | Murder &lt;dbl&gt; | HS Grad &lt;dbl&gt; | Frost &lt;dbl&gt; | Area &lt;dbl&gt; |\n",
       "|---|---|---|---|---|---|---|---|---|\n",
       "| Alabama |  3615 | 3624 | 2.1 | 69.05 | 15.1 | 41.3 |  20 |  50708 |\n",
       "| Alaska |   365 | 6315 | 1.5 | 69.31 | 11.3 | 66.7 | 152 | 566432 |\n",
       "| Arizona |  2212 | 4530 | 1.8 | 70.55 |  7.8 | 58.1 |  15 | 113417 |\n",
       "| Arkansas |  2110 | 3378 | 1.9 | 70.66 | 10.1 | 39.9 |  65 |  51945 |\n",
       "| California | 21198 | 5114 | 1.1 | 71.71 | 10.3 | 62.6 |  20 | 156361 |\n",
       "| Colorado |  2541 | 4884 | 0.7 | 72.06 |  6.8 | 63.9 | 166 | 103766 |\n",
       "| Connecticut |  3100 | 5348 | 1.1 | 72.48 |  3.1 | 56.0 | 139 |   4862 |\n",
       "| Delaware |   579 | 4809 | 0.9 | 70.06 |  6.2 | 54.6 | 103 |   1982 |\n",
       "| Florida |  8277 | 4815 | 1.3 | 70.66 | 10.7 | 52.6 |  11 |  54090 |\n",
       "| Georgia |  4931 | 4091 | 2.0 | 68.54 | 13.9 | 40.6 |  60 |  58073 |\n",
       "| Hawaii |   868 | 4963 | 1.9 | 73.60 |  6.2 | 61.9 |   0 |   6425 |\n",
       "| Idaho |   813 | 4119 | 0.6 | 71.87 |  5.3 | 59.5 | 126 |  82677 |\n",
       "| Illinois | 11197 | 5107 | 0.9 | 70.14 | 10.3 | 52.6 | 127 |  55748 |\n",
       "| Indiana |  5313 | 4458 | 0.7 | 70.88 |  7.1 | 52.9 | 122 |  36097 |\n",
       "| Iowa |  2861 | 4628 | 0.5 | 72.56 |  2.3 | 59.0 | 140 |  55941 |\n",
       "| Kansas |  2280 | 4669 | 0.6 | 72.58 |  4.5 | 59.9 | 114 |  81787 |\n",
       "| Kentucky |  3387 | 3712 | 1.6 | 70.10 | 10.6 | 38.5 |  95 |  39650 |\n",
       "| Louisiana |  3806 | 3545 | 2.8 | 68.76 | 13.2 | 42.2 |  12 |  44930 |\n",
       "| Maine |  1058 | 3694 | 0.7 | 70.39 |  2.7 | 54.7 | 161 |  30920 |\n",
       "| Maryland |  4122 | 5299 | 0.9 | 70.22 |  8.5 | 52.3 | 101 |   9891 |\n",
       "| Massachusetts |  5814 | 4755 | 1.1 | 71.83 |  3.3 | 58.5 | 103 |   7826 |\n",
       "| Michigan |  9111 | 4751 | 0.9 | 70.63 | 11.1 | 52.8 | 125 |  56817 |\n",
       "| Minnesota |  3921 | 4675 | 0.6 | 72.96 |  2.3 | 57.6 | 160 |  79289 |\n",
       "| Mississippi |  2341 | 3098 | 2.4 | 68.09 | 12.5 | 41.0 |  50 |  47296 |\n",
       "| Missouri |  4767 | 4254 | 0.8 | 70.69 |  9.3 | 48.8 | 108 |  68995 |\n",
       "| Montana |   746 | 4347 | 0.6 | 70.56 |  5.0 | 59.2 | 155 | 145587 |\n",
       "| Nebraska |  1544 | 4508 | 0.6 | 72.60 |  2.9 | 59.3 | 139 |  76483 |\n",
       "| Nevada |   590 | 5149 | 0.5 | 69.03 | 11.5 | 65.2 | 188 | 109889 |\n",
       "| New Hampshire |   812 | 4281 | 0.7 | 71.23 |  3.3 | 57.6 | 174 |   9027 |\n",
       "| New Jersey |  7333 | 5237 | 1.1 | 70.93 |  5.2 | 52.5 | 115 |   7521 |\n",
       "| New Mexico |  1144 | 3601 | 2.2 | 70.32 |  9.7 | 55.2 | 120 | 121412 |\n",
       "| New York | 18076 | 4903 | 1.4 | 70.55 | 10.9 | 52.7 |  82 |  47831 |\n",
       "| North Carolina |  5441 | 3875 | 1.8 | 69.21 | 11.1 | 38.5 |  80 |  48798 |\n",
       "| North Dakota |   637 | 5087 | 0.8 | 72.78 |  1.4 | 50.3 | 186 |  69273 |\n",
       "| Ohio | 10735 | 4561 | 0.8 | 70.82 |  7.4 | 53.2 | 124 |  40975 |\n",
       "| Oklahoma |  2715 | 3983 | 1.1 | 71.42 |  6.4 | 51.6 |  82 |  68782 |\n",
       "| Oregon |  2284 | 4660 | 0.6 | 72.13 |  4.2 | 60.0 |  44 |  96184 |\n",
       "| Pennsylvania | 11860 | 4449 | 1.0 | 70.43 |  6.1 | 50.2 | 126 |  44966 |\n",
       "| Rhode Island |   931 | 4558 | 1.3 | 71.90 |  2.4 | 46.4 | 127 |   1049 |\n",
       "| South Carolina |  2816 | 3635 | 2.3 | 67.96 | 11.6 | 37.8 |  65 |  30225 |\n",
       "| South Dakota |   681 | 4167 | 0.5 | 72.08 |  1.7 | 53.3 | 172 |  75955 |\n",
       "| Tennessee |  4173 | 3821 | 1.7 | 70.11 | 11.0 | 41.8 |  70 |  41328 |\n",
       "| Texas | 12237 | 4188 | 2.2 | 70.90 | 12.2 | 47.4 |  35 | 262134 |\n",
       "| Utah |  1203 | 4022 | 0.6 | 72.90 |  4.5 | 67.3 | 137 |  82096 |\n",
       "| Vermont |   472 | 3907 | 0.6 | 71.64 |  5.5 | 57.1 | 168 |   9267 |\n",
       "| Virginia |  4981 | 4701 | 1.4 | 70.08 |  9.5 | 47.8 |  85 |  39780 |\n",
       "| Washington |  3559 | 4864 | 0.6 | 71.72 |  4.3 | 63.5 |  32 |  66570 |\n",
       "| West Virginia |  1799 | 3617 | 1.4 | 69.48 |  6.7 | 41.6 | 100 |  24070 |\n",
       "| Wisconsin |  4589 | 4468 | 0.7 | 72.48 |  3.0 | 54.5 | 149 |  54464 |\n",
       "| Wyoming |   376 | 4566 | 0.6 | 70.29 |  6.9 | 62.9 | 173 |  97203 |\n",
       "\n"
      ],
      "text/plain": [
       "               Population Income Illiteracy Life Exp Murder HS Grad Frost\n",
       "Alabama         3615      3624   2.1        69.05    15.1   41.3     20  \n",
       "Alaska           365      6315   1.5        69.31    11.3   66.7    152  \n",
       "Arizona         2212      4530   1.8        70.55     7.8   58.1     15  \n",
       "Arkansas        2110      3378   1.9        70.66    10.1   39.9     65  \n",
       "California     21198      5114   1.1        71.71    10.3   62.6     20  \n",
       "Colorado        2541      4884   0.7        72.06     6.8   63.9    166  \n",
       "Connecticut     3100      5348   1.1        72.48     3.1   56.0    139  \n",
       "Delaware         579      4809   0.9        70.06     6.2   54.6    103  \n",
       "Florida         8277      4815   1.3        70.66    10.7   52.6     11  \n",
       "Georgia         4931      4091   2.0        68.54    13.9   40.6     60  \n",
       "Hawaii           868      4963   1.9        73.60     6.2   61.9      0  \n",
       "Idaho            813      4119   0.6        71.87     5.3   59.5    126  \n",
       "Illinois       11197      5107   0.9        70.14    10.3   52.6    127  \n",
       "Indiana         5313      4458   0.7        70.88     7.1   52.9    122  \n",
       "Iowa            2861      4628   0.5        72.56     2.3   59.0    140  \n",
       "Kansas          2280      4669   0.6        72.58     4.5   59.9    114  \n",
       "Kentucky        3387      3712   1.6        70.10    10.6   38.5     95  \n",
       "Louisiana       3806      3545   2.8        68.76    13.2   42.2     12  \n",
       "Maine           1058      3694   0.7        70.39     2.7   54.7    161  \n",
       "Maryland        4122      5299   0.9        70.22     8.5   52.3    101  \n",
       "Massachusetts   5814      4755   1.1        71.83     3.3   58.5    103  \n",
       "Michigan        9111      4751   0.9        70.63    11.1   52.8    125  \n",
       "Minnesota       3921      4675   0.6        72.96     2.3   57.6    160  \n",
       "Mississippi     2341      3098   2.4        68.09    12.5   41.0     50  \n",
       "Missouri        4767      4254   0.8        70.69     9.3   48.8    108  \n",
       "Montana          746      4347   0.6        70.56     5.0   59.2    155  \n",
       "Nebraska        1544      4508   0.6        72.60     2.9   59.3    139  \n",
       "Nevada           590      5149   0.5        69.03    11.5   65.2    188  \n",
       "New Hampshire    812      4281   0.7        71.23     3.3   57.6    174  \n",
       "New Jersey      7333      5237   1.1        70.93     5.2   52.5    115  \n",
       "New Mexico      1144      3601   2.2        70.32     9.7   55.2    120  \n",
       "New York       18076      4903   1.4        70.55    10.9   52.7     82  \n",
       "North Carolina  5441      3875   1.8        69.21    11.1   38.5     80  \n",
       "North Dakota     637      5087   0.8        72.78     1.4   50.3    186  \n",
       "Ohio           10735      4561   0.8        70.82     7.4   53.2    124  \n",
       "Oklahoma        2715      3983   1.1        71.42     6.4   51.6     82  \n",
       "Oregon          2284      4660   0.6        72.13     4.2   60.0     44  \n",
       "Pennsylvania   11860      4449   1.0        70.43     6.1   50.2    126  \n",
       "Rhode Island     931      4558   1.3        71.90     2.4   46.4    127  \n",
       "South Carolina  2816      3635   2.3        67.96    11.6   37.8     65  \n",
       "South Dakota     681      4167   0.5        72.08     1.7   53.3    172  \n",
       "Tennessee       4173      3821   1.7        70.11    11.0   41.8     70  \n",
       "Texas          12237      4188   2.2        70.90    12.2   47.4     35  \n",
       "Utah            1203      4022   0.6        72.90     4.5   67.3    137  \n",
       "Vermont          472      3907   0.6        71.64     5.5   57.1    168  \n",
       "Virginia        4981      4701   1.4        70.08     9.5   47.8     85  \n",
       "Washington      3559      4864   0.6        71.72     4.3   63.5     32  \n",
       "West Virginia   1799      3617   1.4        69.48     6.7   41.6    100  \n",
       "Wisconsin       4589      4468   0.7        72.48     3.0   54.5    149  \n",
       "Wyoming          376      4566   0.6        70.29     6.9   62.9    173  \n",
       "               Area  \n",
       "Alabama         50708\n",
       "Alaska         566432\n",
       "Arizona        113417\n",
       "Arkansas        51945\n",
       "California     156361\n",
       "Colorado       103766\n",
       "Connecticut      4862\n",
       "Delaware         1982\n",
       "Florida         54090\n",
       "Georgia         58073\n",
       "Hawaii           6425\n",
       "Idaho           82677\n",
       "Illinois        55748\n",
       "Indiana         36097\n",
       "Iowa            55941\n",
       "Kansas          81787\n",
       "Kentucky        39650\n",
       "Louisiana       44930\n",
       "Maine           30920\n",
       "Maryland         9891\n",
       "Massachusetts    7826\n",
       "Michigan        56817\n",
       "Minnesota       79289\n",
       "Mississippi     47296\n",
       "Missouri        68995\n",
       "Montana        145587\n",
       "Nebraska        76483\n",
       "Nevada         109889\n",
       "New Hampshire    9027\n",
       "New Jersey       7521\n",
       "New Mexico     121412\n",
       "New York        47831\n",
       "North Carolina  48798\n",
       "North Dakota    69273\n",
       "Ohio            40975\n",
       "Oklahoma        68782\n",
       "Oregon          96184\n",
       "Pennsylvania    44966\n",
       "Rhode Island     1049\n",
       "South Carolina  30225\n",
       "South Dakota    75955\n",
       "Tennessee       41328\n",
       "Texas          262134\n",
       "Utah            82096\n",
       "Vermont          9267\n",
       "Virginia        39780\n",
       "Washington      66570\n",
       "West Virginia   24070\n",
       "Wisconsin       54464\n",
       "Wyoming         97203"
      ]
     },
     "metadata": {},
     "output_type": "display_data"
    }
   ],
   "source": [
    "df"
   ]
  },
  {
   "cell_type": "code",
   "execution_count": 3,
   "id": "d5ded84b-7b9f-4c42-85aa-77759d62d501",
   "metadata": {},
   "outputs": [],
   "source": [
    "eeuu_population<-sum(df$Population)"
   ]
  },
  {
   "cell_type": "code",
   "execution_count": 4,
   "id": "c4eb03a4-4fbe-4dc2-8a84-c1d24d2462df",
   "metadata": {},
   "outputs": [
    {
     "data": {
      "text/html": [
       "212321"
      ],
      "text/latex": [
       "212321"
      ],
      "text/markdown": [
       "212321"
      ],
      "text/plain": [
       "[1] 212321"
      ]
     },
     "metadata": {},
     "output_type": "display_data"
    }
   ],
   "source": [
    "eeuu_population"
   ]
  },
  {
   "cell_type": "code",
   "execution_count": 5,
   "id": "84a96171-1bd0-4713-a508-befb983f5a5a",
   "metadata": {},
   "outputs": [
    {
     "data": {
      "text/html": [
       "70.8786"
      ],
      "text/latex": [
       "70.8786"
      ],
      "text/markdown": [
       "70.8786"
      ],
      "text/plain": [
       "[1] 70.8786"
      ]
     },
     "metadata": {},
     "output_type": "display_data"
    }
   ],
   "source": [
    "life_exp<-mean(df$'Life Exp')\n",
    "life_exp"
   ]
  },
  {
   "cell_type": "code",
   "execution_count": 6,
   "id": "523d1587-a2f9-41e2-a40c-f5c059d467c6",
   "metadata": {},
   "outputs": [
    {
     "data": {
      "text/html": [
       "4519"
      ],
      "text/latex": [
       "4519"
      ],
      "text/markdown": [
       "4519"
      ],
      "text/plain": [
       "[1] 4519"
      ]
     },
     "metadata": {},
     "output_type": "display_data"
    }
   ],
   "source": [
    "life_exp<-median(df$'Income')\n",
    "life_exp"
   ]
  },
  {
   "cell_type": "code",
   "execution_count": 7,
   "id": "4d30a142-4c40-46d0-bf43-4db2175d84e7",
   "metadata": {},
   "outputs": [
    {
     "data": {
      "text/html": [
       "<table class=\"dataframe\">\n",
       "<caption>A data.frame: 6 × 2</caption>\n",
       "<thead>\n",
       "\t<tr><th></th><th scope=col>Illiteracy</th><th scope=col>Murder</th></tr>\n",
       "\t<tr><th></th><th scope=col>&lt;dbl&gt;</th><th scope=col>&lt;dbl&gt;</th></tr>\n",
       "</thead>\n",
       "<tbody>\n",
       "\t<tr><th scope=row>Alabama</th><td>2.1</td><td>15.1</td></tr>\n",
       "\t<tr><th scope=row>Alaska</th><td>1.5</td><td>11.3</td></tr>\n",
       "\t<tr><th scope=row>Arizona</th><td>1.8</td><td> 7.8</td></tr>\n",
       "\t<tr><th scope=row>Arkansas</th><td>1.9</td><td>10.1</td></tr>\n",
       "\t<tr><th scope=row>California</th><td>1.1</td><td>10.3</td></tr>\n",
       "\t<tr><th scope=row>Colorado</th><td>0.7</td><td> 6.8</td></tr>\n",
       "</tbody>\n",
       "</table>\n"
      ],
      "text/latex": [
       "A data.frame: 6 × 2\n",
       "\\begin{tabular}{r|ll}\n",
       "  & Illiteracy & Murder\\\\\n",
       "  & <dbl> & <dbl>\\\\\n",
       "\\hline\n",
       "\tAlabama & 2.1 & 15.1\\\\\n",
       "\tAlaska & 1.5 & 11.3\\\\\n",
       "\tArizona & 1.8 &  7.8\\\\\n",
       "\tArkansas & 1.9 & 10.1\\\\\n",
       "\tCalifornia & 1.1 & 10.3\\\\\n",
       "\tColorado & 0.7 &  6.8\\\\\n",
       "\\end{tabular}\n"
      ],
      "text/markdown": [
       "\n",
       "A data.frame: 6 × 2\n",
       "\n",
       "| <!--/--> | Illiteracy &lt;dbl&gt; | Murder &lt;dbl&gt; |\n",
       "|---|---|---|\n",
       "| Alabama | 2.1 | 15.1 |\n",
       "| Alaska | 1.5 | 11.3 |\n",
       "| Arizona | 1.8 |  7.8 |\n",
       "| Arkansas | 1.9 | 10.1 |\n",
       "| California | 1.1 | 10.3 |\n",
       "| Colorado | 0.7 |  6.8 |\n",
       "\n"
      ],
      "text/plain": [
       "           Illiteracy Murder\n",
       "Alabama    2.1        15.1  \n",
       "Alaska     1.5        11.3  \n",
       "Arizona    1.8         7.8  \n",
       "Arkansas   1.9        10.1  \n",
       "California 1.1        10.3  \n",
       "Colorado   0.7         6.8  "
      ]
     },
     "metadata": {},
     "output_type": "display_data"
    }
   ],
   "source": [
    "df_indice<-df[, c(\"Illiteracy\", \"Murder\")]\n",
    "head(df_indice)"
   ]
  },
  {
   "cell_type": "code",
   "execution_count": 8,
   "id": "37444fa5-1a73-4034-8e82-7cbab5b648fb",
   "metadata": {},
   "outputs": [
    {
     "data": {
      "text/html": [
       "<table class=\"dataframe\">\n",
       "<caption>A data.frame: 6 × 3</caption>\n",
       "<thead>\n",
       "\t<tr><th></th><th scope=col>Illiteracy</th><th scope=col>Murder</th><th scope=col>ilit_murd</th></tr>\n",
       "\t<tr><th></th><th scope=col>&lt;dbl&gt;</th><th scope=col>&lt;dbl&gt;</th><th scope=col>&lt;dbl&gt;</th></tr>\n",
       "</thead>\n",
       "<tbody>\n",
       "\t<tr><th scope=row>Alabama</th><td>2.1</td><td>15.1</td><td>17.2</td></tr>\n",
       "\t<tr><th scope=row>Alaska</th><td>1.5</td><td>11.3</td><td>12.8</td></tr>\n",
       "\t<tr><th scope=row>Arizona</th><td>1.8</td><td> 7.8</td><td> 9.6</td></tr>\n",
       "\t<tr><th scope=row>Arkansas</th><td>1.9</td><td>10.1</td><td>12.0</td></tr>\n",
       "\t<tr><th scope=row>California</th><td>1.1</td><td>10.3</td><td>11.4</td></tr>\n",
       "\t<tr><th scope=row>Colorado</th><td>0.7</td><td> 6.8</td><td> 7.5</td></tr>\n",
       "</tbody>\n",
       "</table>\n"
      ],
      "text/latex": [
       "A data.frame: 6 × 3\n",
       "\\begin{tabular}{r|lll}\n",
       "  & Illiteracy & Murder & ilit\\_murd\\\\\n",
       "  & <dbl> & <dbl> & <dbl>\\\\\n",
       "\\hline\n",
       "\tAlabama & 2.1 & 15.1 & 17.2\\\\\n",
       "\tAlaska & 1.5 & 11.3 & 12.8\\\\\n",
       "\tArizona & 1.8 &  7.8 &  9.6\\\\\n",
       "\tArkansas & 1.9 & 10.1 & 12.0\\\\\n",
       "\tCalifornia & 1.1 & 10.3 & 11.4\\\\\n",
       "\tColorado & 0.7 &  6.8 &  7.5\\\\\n",
       "\\end{tabular}\n"
      ],
      "text/markdown": [
       "\n",
       "A data.frame: 6 × 3\n",
       "\n",
       "| <!--/--> | Illiteracy &lt;dbl&gt; | Murder &lt;dbl&gt; | ilit_murd &lt;dbl&gt; |\n",
       "|---|---|---|---|\n",
       "| Alabama | 2.1 | 15.1 | 17.2 |\n",
       "| Alaska | 1.5 | 11.3 | 12.8 |\n",
       "| Arizona | 1.8 |  7.8 |  9.6 |\n",
       "| Arkansas | 1.9 | 10.1 | 12.0 |\n",
       "| California | 1.1 | 10.3 | 11.4 |\n",
       "| Colorado | 0.7 |  6.8 |  7.5 |\n",
       "\n"
      ],
      "text/plain": [
       "           Illiteracy Murder ilit_murd\n",
       "Alabama    2.1        15.1   17.2     \n",
       "Alaska     1.5        11.3   12.8     \n",
       "Arizona    1.8         7.8    9.6     \n",
       "Arkansas   1.9        10.1   12.0     \n",
       "California 1.1        10.3   11.4     \n",
       "Colorado   0.7         6.8    7.5     "
      ]
     },
     "metadata": {},
     "output_type": "display_data"
    }
   ],
   "source": [
    "df_indice$ilit_murd <- df_indice$Illiteracy + df_indice$Murder\n",
    "head(df_indice)"
   ]
  },
  {
   "cell_type": "code",
   "execution_count": 9,
   "id": "f227ad58-390b-4a1f-a6be-b665690c0896",
   "metadata": {},
   "outputs": [
    {
     "name": "stdout",
     "output_type": "stream",
     "text": [
      "17.2 2.2"
     ]
    }
   ],
   "source": [
    "minimo = min(df_indice$ilit_murd)\n",
    "maximo = max(df_indice$ilit_murd)\n",
    "\n",
    "cat(maximo, minimo)"
   ]
  },
  {
   "cell_type": "code",
   "execution_count": 10,
   "id": "28cf60f8-848b-4008-a1fb-dd4991a332e7",
   "metadata": {},
   "outputs": [
    {
     "data": {
      "text/html": [
       "11"
      ],
      "text/latex": [
       "11"
      ],
      "text/markdown": [
       "11"
      ],
      "text/plain": [
       "[1] 11"
      ]
     },
     "metadata": {},
     "output_type": "display_data"
    }
   ],
   "source": [
    "OBJETO <- 5 + 6\n",
    "OBJETO"
   ]
  },
  {
   "cell_type": "code",
   "execution_count": 11,
   "id": "c24daf3b-740e-4586-bb9c-35c67c171ec0",
   "metadata": {},
   "outputs": [
    {
     "data": {
      "text/html": [
       "<style>\n",
       ".list-inline {list-style: none; margin:0; padding: 0}\n",
       ".list-inline>li {display: inline-block}\n",
       ".list-inline>li:not(:last-child)::after {content: \"\\00b7\"; padding: 0 .5ex}\n",
       "</style>\n",
       "<ol class=list-inline><li>7</li><li>5</li><li>8</li><li>9</li><li>8</li></ol>\n"
      ],
      "text/latex": [
       "\\begin{enumerate*}\n",
       "\\item 7\n",
       "\\item 5\n",
       "\\item 8\n",
       "\\item 9\n",
       "\\item 8\n",
       "\\end{enumerate*}\n"
      ],
      "text/markdown": [
       "1. 7\n",
       "2. 5\n",
       "3. 8\n",
       "4. 9\n",
       "5. 8\n",
       "\n",
       "\n"
      ],
      "text/plain": [
       "[1] 7 5 8 9 8"
      ]
     },
     "metadata": {},
     "output_type": "display_data"
    }
   ],
   "source": [
    "VEC0 <- sample(1:10, size = 5, replace = TRUE)\n",
    "VEC0"
   ]
  },
  {
   "cell_type": "code",
   "execution_count": 12,
   "id": "132b10c7-c944-4f32-b834-817f4909a435",
   "metadata": {},
   "outputs": [],
   "source": [
    "VEC1 <- c(VEC0*2)\n",
    "VEC2 <- c(VEC0 **2)\n",
    "VEC3 <- c(VEC0 - 2)"
   ]
  },
  {
   "cell_type": "code",
   "execution_count": 13,
   "id": "6e9fd3e9-3881-4e4f-8a8c-c1fa125d5041",
   "metadata": {},
   "outputs": [
    {
     "data": {
      "text/html": [
       "<style>\n",
       ".list-inline {list-style: none; margin:0; padding: 0}\n",
       ".list-inline>li {display: inline-block}\n",
       ".list-inline>li:not(:last-child)::after {content: \"\\00b7\"; padding: 0 .5ex}\n",
       "</style>\n",
       "<ol class=list-inline><li>14</li><li>10</li><li>16</li><li>18</li><li>16</li></ol>\n"
      ],
      "text/latex": [
       "\\begin{enumerate*}\n",
       "\\item 14\n",
       "\\item 10\n",
       "\\item 16\n",
       "\\item 18\n",
       "\\item 16\n",
       "\\end{enumerate*}\n"
      ],
      "text/markdown": [
       "1. 14\n",
       "2. 10\n",
       "3. 16\n",
       "4. 18\n",
       "5. 16\n",
       "\n",
       "\n"
      ],
      "text/plain": [
       "[1] 14 10 16 18 16"
      ]
     },
     "metadata": {},
     "output_type": "display_data"
    }
   ],
   "source": [
    "VEC1"
   ]
  },
  {
   "cell_type": "code",
   "execution_count": 14,
   "id": "8c96bf3b-7ab3-458b-adb7-53d40b00d35b",
   "metadata": {},
   "outputs": [
    {
     "data": {
      "text/html": [
       "<style>\n",
       ".list-inline {list-style: none; margin:0; padding: 0}\n",
       ".list-inline>li {display: inline-block}\n",
       ".list-inline>li:not(:last-child)::after {content: \"\\00b7\"; padding: 0 .5ex}\n",
       "</style>\n",
       "<ol class=list-inline><li>49</li><li>25</li><li>64</li><li>81</li><li>64</li></ol>\n"
      ],
      "text/latex": [
       "\\begin{enumerate*}\n",
       "\\item 49\n",
       "\\item 25\n",
       "\\item 64\n",
       "\\item 81\n",
       "\\item 64\n",
       "\\end{enumerate*}\n"
      ],
      "text/markdown": [
       "1. 49\n",
       "2. 25\n",
       "3. 64\n",
       "4. 81\n",
       "5. 64\n",
       "\n",
       "\n"
      ],
      "text/plain": [
       "[1] 49 25 64 81 64"
      ]
     },
     "metadata": {},
     "output_type": "display_data"
    }
   ],
   "source": [
    "VEC2"
   ]
  },
  {
   "cell_type": "code",
   "execution_count": 15,
   "id": "5617e599-dd07-477a-8bbd-500a4839ab96",
   "metadata": {},
   "outputs": [
    {
     "data": {
      "text/html": [
       "<style>\n",
       ".list-inline {list-style: none; margin:0; padding: 0}\n",
       ".list-inline>li {display: inline-block}\n",
       ".list-inline>li:not(:last-child)::after {content: \"\\00b7\"; padding: 0 .5ex}\n",
       "</style>\n",
       "<ol class=list-inline><li>5</li><li>3</li><li>6</li><li>7</li><li>6</li></ol>\n"
      ],
      "text/latex": [
       "\\begin{enumerate*}\n",
       "\\item 5\n",
       "\\item 3\n",
       "\\item 6\n",
       "\\item 7\n",
       "\\item 6\n",
       "\\end{enumerate*}\n"
      ],
      "text/markdown": [
       "1. 5\n",
       "2. 3\n",
       "3. 6\n",
       "4. 7\n",
       "5. 6\n",
       "\n",
       "\n"
      ],
      "text/plain": [
       "[1] 5 3 6 7 6"
      ]
     },
     "metadata": {},
     "output_type": "display_data"
    }
   ],
   "source": [
    "VEC3"
   ]
  },
  {
   "cell_type": "code",
   "execution_count": 16,
   "id": "12006a78-992f-4da0-82d1-268074210c2b",
   "metadata": {},
   "outputs": [],
   "source": [
    "VEC4 <- rep('cac', 5)\n",
    "VEC5 <- rep('gac', 5)\n",
    "VEC6 <- rep('gag', 5)"
   ]
  },
  {
   "cell_type": "code",
   "execution_count": 17,
   "id": "58266714-10e9-4156-9863-1152793c17f9",
   "metadata": {},
   "outputs": [
    {
     "data": {
      "text/html": [
       "<style>\n",
       ".list-inline {list-style: none; margin:0; padding: 0}\n",
       ".list-inline>li {display: inline-block}\n",
       ".list-inline>li:not(:last-child)::after {content: \"\\00b7\"; padding: 0 .5ex}\n",
       "</style>\n",
       "<ol class=list-inline><li>'cac'</li><li>'cac'</li><li>'cac'</li><li>'cac'</li><li>'cac'</li></ol>\n"
      ],
      "text/latex": [
       "\\begin{enumerate*}\n",
       "\\item 'cac'\n",
       "\\item 'cac'\n",
       "\\item 'cac'\n",
       "\\item 'cac'\n",
       "\\item 'cac'\n",
       "\\end{enumerate*}\n"
      ],
      "text/markdown": [
       "1. 'cac'\n",
       "2. 'cac'\n",
       "3. 'cac'\n",
       "4. 'cac'\n",
       "5. 'cac'\n",
       "\n",
       "\n"
      ],
      "text/plain": [
       "[1] \"cac\" \"cac\" \"cac\" \"cac\" \"cac\""
      ]
     },
     "metadata": {},
     "output_type": "display_data"
    }
   ],
   "source": [
    "VEC4"
   ]
  },
  {
   "cell_type": "code",
   "execution_count": 18,
   "id": "0d46f941-d045-43b2-a66c-f1be891fc2d1",
   "metadata": {},
   "outputs": [
    {
     "data": {
      "text/html": [
       "<style>\n",
       ".list-inline {list-style: none; margin:0; padding: 0}\n",
       ".list-inline>li {display: inline-block}\n",
       ".list-inline>li:not(:last-child)::after {content: \"\\00b7\"; padding: 0 .5ex}\n",
       "</style>\n",
       "<ol class=list-inline><li>'gac'</li><li>'gac'</li><li>'gac'</li><li>'gac'</li><li>'gac'</li></ol>\n"
      ],
      "text/latex": [
       "\\begin{enumerate*}\n",
       "\\item 'gac'\n",
       "\\item 'gac'\n",
       "\\item 'gac'\n",
       "\\item 'gac'\n",
       "\\item 'gac'\n",
       "\\end{enumerate*}\n"
      ],
      "text/markdown": [
       "1. 'gac'\n",
       "2. 'gac'\n",
       "3. 'gac'\n",
       "4. 'gac'\n",
       "5. 'gac'\n",
       "\n",
       "\n"
      ],
      "text/plain": [
       "[1] \"gac\" \"gac\" \"gac\" \"gac\" \"gac\""
      ]
     },
     "metadata": {},
     "output_type": "display_data"
    }
   ],
   "source": [
    "VEC5"
   ]
  },
  {
   "cell_type": "code",
   "execution_count": 19,
   "id": "c64dc7ae-a455-4697-9f52-495ed5a6ee2b",
   "metadata": {},
   "outputs": [
    {
     "data": {
      "text/html": [
       "<style>\n",
       ".list-inline {list-style: none; margin:0; padding: 0}\n",
       ".list-inline>li {display: inline-block}\n",
       ".list-inline>li:not(:last-child)::after {content: \"\\00b7\"; padding: 0 .5ex}\n",
       "</style>\n",
       "<ol class=list-inline><li>'gag'</li><li>'gag'</li><li>'gag'</li><li>'gag'</li><li>'gag'</li></ol>\n"
      ],
      "text/latex": [
       "\\begin{enumerate*}\n",
       "\\item 'gag'\n",
       "\\item 'gag'\n",
       "\\item 'gag'\n",
       "\\item 'gag'\n",
       "\\item 'gag'\n",
       "\\end{enumerate*}\n"
      ],
      "text/markdown": [
       "1. 'gag'\n",
       "2. 'gag'\n",
       "3. 'gag'\n",
       "4. 'gag'\n",
       "5. 'gag'\n",
       "\n",
       "\n"
      ],
      "text/plain": [
       "[1] \"gag\" \"gag\" \"gag\" \"gag\" \"gag\""
      ]
     },
     "metadata": {},
     "output_type": "display_data"
    }
   ],
   "source": [
    "VEC6"
   ]
  },
  {
   "cell_type": "code",
   "execution_count": 20,
   "id": "0da68dfa-4dee-46e9-9d21-ee9adc161e73",
   "metadata": {},
   "outputs": [],
   "source": [
    "VECTOR <- c('vec1', 'vec2', 'vec3', 'vec4', 'vec5')\n",
    "\n",
    "DFRAME <- data.frame(\n",
    "  VECTOR = VECTOR,\n",
    "  VEC0 = VEC0,\n",
    "  VEC1 = VEC1,\n",
    "  VEC2 = VEC2,\n",
    "  VEC3 = VEC3,\n",
    "  VEC4 = VEC4,\n",
    "  VEC5 = VEC5,\n",
    "  VEC6 = VEC6\n",
    ")"
   ]
  },
  {
   "cell_type": "code",
   "execution_count": 21,
   "id": "0e99a76d-ffd0-4e99-8473-5b2d53830f4f",
   "metadata": {},
   "outputs": [
    {
     "data": {
      "text/html": [
       "<table class=\"dataframe\">\n",
       "<caption>A data.frame: 5 × 8</caption>\n",
       "<thead>\n",
       "\t<tr><th scope=col>VECTOR</th><th scope=col>VEC0</th><th scope=col>VEC1</th><th scope=col>VEC2</th><th scope=col>VEC3</th><th scope=col>VEC4</th><th scope=col>VEC5</th><th scope=col>VEC6</th></tr>\n",
       "\t<tr><th scope=col>&lt;chr&gt;</th><th scope=col>&lt;int&gt;</th><th scope=col>&lt;dbl&gt;</th><th scope=col>&lt;dbl&gt;</th><th scope=col>&lt;dbl&gt;</th><th scope=col>&lt;chr&gt;</th><th scope=col>&lt;chr&gt;</th><th scope=col>&lt;chr&gt;</th></tr>\n",
       "</thead>\n",
       "<tbody>\n",
       "\t<tr><td>vec1</td><td>7</td><td>14</td><td>49</td><td>5</td><td>cac</td><td>gac</td><td>gag</td></tr>\n",
       "\t<tr><td>vec2</td><td>5</td><td>10</td><td>25</td><td>3</td><td>cac</td><td>gac</td><td>gag</td></tr>\n",
       "\t<tr><td>vec3</td><td>8</td><td>16</td><td>64</td><td>6</td><td>cac</td><td>gac</td><td>gag</td></tr>\n",
       "\t<tr><td>vec4</td><td>9</td><td>18</td><td>81</td><td>7</td><td>cac</td><td>gac</td><td>gag</td></tr>\n",
       "\t<tr><td>vec5</td><td>8</td><td>16</td><td>64</td><td>6</td><td>cac</td><td>gac</td><td>gag</td></tr>\n",
       "</tbody>\n",
       "</table>\n"
      ],
      "text/latex": [
       "A data.frame: 5 × 8\n",
       "\\begin{tabular}{llllllll}\n",
       " VECTOR & VEC0 & VEC1 & VEC2 & VEC3 & VEC4 & VEC5 & VEC6\\\\\n",
       " <chr> & <int> & <dbl> & <dbl> & <dbl> & <chr> & <chr> & <chr>\\\\\n",
       "\\hline\n",
       "\t vec1 & 7 & 14 & 49 & 5 & cac & gac & gag\\\\\n",
       "\t vec2 & 5 & 10 & 25 & 3 & cac & gac & gag\\\\\n",
       "\t vec3 & 8 & 16 & 64 & 6 & cac & gac & gag\\\\\n",
       "\t vec4 & 9 & 18 & 81 & 7 & cac & gac & gag\\\\\n",
       "\t vec5 & 8 & 16 & 64 & 6 & cac & gac & gag\\\\\n",
       "\\end{tabular}\n"
      ],
      "text/markdown": [
       "\n",
       "A data.frame: 5 × 8\n",
       "\n",
       "| VECTOR &lt;chr&gt; | VEC0 &lt;int&gt; | VEC1 &lt;dbl&gt; | VEC2 &lt;dbl&gt; | VEC3 &lt;dbl&gt; | VEC4 &lt;chr&gt; | VEC5 &lt;chr&gt; | VEC6 &lt;chr&gt; |\n",
       "|---|---|---|---|---|---|---|---|\n",
       "| vec1 | 7 | 14 | 49 | 5 | cac | gac | gag |\n",
       "| vec2 | 5 | 10 | 25 | 3 | cac | gac | gag |\n",
       "| vec3 | 8 | 16 | 64 | 6 | cac | gac | gag |\n",
       "| vec4 | 9 | 18 | 81 | 7 | cac | gac | gag |\n",
       "| vec5 | 8 | 16 | 64 | 6 | cac | gac | gag |\n",
       "\n"
      ],
      "text/plain": [
       "  VECTOR VEC0 VEC1 VEC2 VEC3 VEC4 VEC5 VEC6\n",
       "1 vec1   7    14   49   5    cac  gac  gag \n",
       "2 vec2   5    10   25   3    cac  gac  gag \n",
       "3 vec3   8    16   64   6    cac  gac  gag \n",
       "4 vec4   9    18   81   7    cac  gac  gag \n",
       "5 vec5   8    16   64   6    cac  gac  gag "
      ]
     },
     "metadata": {},
     "output_type": "display_data"
    }
   ],
   "source": [
    "DFRAME"
   ]
  },
  {
   "cell_type": "code",
   "execution_count": 22,
   "id": "c59e90eb-f04a-4ace-80bd-d67665d24560",
   "metadata": {},
   "outputs": [
    {
     "data": {
      "text/html": [
       "<ol>\n",
       "\t<li>11</li>\n",
       "\t<li><style>\n",
       ".list-inline {list-style: none; margin:0; padding: 0}\n",
       ".list-inline>li {display: inline-block}\n",
       ".list-inline>li:not(:last-child)::after {content: \"\\00b7\"; padding: 0 .5ex}\n",
       "</style>\n",
       "<ol class=list-inline><li>7</li><li>5</li><li>8</li><li>9</li><li>8</li></ol>\n",
       "</li>\n",
       "\t<li><table class=\"dataframe\">\n",
       "<caption>A data.frame: 5 × 8</caption>\n",
       "<thead>\n",
       "\t<tr><th scope=col>VECTOR</th><th scope=col>VEC0</th><th scope=col>VEC1</th><th scope=col>VEC2</th><th scope=col>VEC3</th><th scope=col>VEC4</th><th scope=col>VEC5</th><th scope=col>VEC6</th></tr>\n",
       "\t<tr><th scope=col>&lt;chr&gt;</th><th scope=col>&lt;int&gt;</th><th scope=col>&lt;dbl&gt;</th><th scope=col>&lt;dbl&gt;</th><th scope=col>&lt;dbl&gt;</th><th scope=col>&lt;chr&gt;</th><th scope=col>&lt;chr&gt;</th><th scope=col>&lt;chr&gt;</th></tr>\n",
       "</thead>\n",
       "<tbody>\n",
       "\t<tr><td>vec1</td><td>7</td><td>14</td><td>49</td><td>5</td><td>cac</td><td>gac</td><td>gag</td></tr>\n",
       "\t<tr><td>vec2</td><td>5</td><td>10</td><td>25</td><td>3</td><td>cac</td><td>gac</td><td>gag</td></tr>\n",
       "\t<tr><td>vec3</td><td>8</td><td>16</td><td>64</td><td>6</td><td>cac</td><td>gac</td><td>gag</td></tr>\n",
       "\t<tr><td>vec4</td><td>9</td><td>18</td><td>81</td><td>7</td><td>cac</td><td>gac</td><td>gag</td></tr>\n",
       "\t<tr><td>vec5</td><td>8</td><td>16</td><td>64</td><td>6</td><td>cac</td><td>gac</td><td>gag</td></tr>\n",
       "</tbody>\n",
       "</table>\n",
       "</li>\n",
       "</ol>\n"
      ],
      "text/latex": [
       "\\begin{enumerate}\n",
       "\\item 11\n",
       "\\item \\begin{enumerate*}\n",
       "\\item 7\n",
       "\\item 5\n",
       "\\item 8\n",
       "\\item 9\n",
       "\\item 8\n",
       "\\end{enumerate*}\n",
       "\n",
       "\\item A data.frame: 5 × 8\n",
       "\\begin{tabular}{llllllll}\n",
       " VECTOR & VEC0 & VEC1 & VEC2 & VEC3 & VEC4 & VEC5 & VEC6\\\\\n",
       " <chr> & <int> & <dbl> & <dbl> & <dbl> & <chr> & <chr> & <chr>\\\\\n",
       "\\hline\n",
       "\t vec1 & 7 & 14 & 49 & 5 & cac & gac & gag\\\\\n",
       "\t vec2 & 5 & 10 & 25 & 3 & cac & gac & gag\\\\\n",
       "\t vec3 & 8 & 16 & 64 & 6 & cac & gac & gag\\\\\n",
       "\t vec4 & 9 & 18 & 81 & 7 & cac & gac & gag\\\\\n",
       "\t vec5 & 8 & 16 & 64 & 6 & cac & gac & gag\\\\\n",
       "\\end{tabular}\n",
       "\n",
       "\\end{enumerate}\n"
      ],
      "text/markdown": [
       "1. 11\n",
       "2. 1. 7\n",
       "2. 5\n",
       "3. 8\n",
       "4. 9\n",
       "5. 8\n",
       "\n",
       "\n",
       "\n",
       "3. \n",
       "A data.frame: 5 × 8\n",
       "\n",
       "| VECTOR &lt;chr&gt; | VEC0 &lt;int&gt; | VEC1 &lt;dbl&gt; | VEC2 &lt;dbl&gt; | VEC3 &lt;dbl&gt; | VEC4 &lt;chr&gt; | VEC5 &lt;chr&gt; | VEC6 &lt;chr&gt; |\n",
       "|---|---|---|---|---|---|---|---|\n",
       "| vec1 | 7 | 14 | 49 | 5 | cac | gac | gag |\n",
       "| vec2 | 5 | 10 | 25 | 3 | cac | gac | gag |\n",
       "| vec3 | 8 | 16 | 64 | 6 | cac | gac | gag |\n",
       "| vec4 | 9 | 18 | 81 | 7 | cac | gac | gag |\n",
       "| vec5 | 8 | 16 | 64 | 6 | cac | gac | gag |\n",
       "\n",
       "\n",
       "\n",
       "\n"
      ],
      "text/plain": [
       "[[1]]\n",
       "[1] 11\n",
       "\n",
       "[[2]]\n",
       "[1] 7 5 8 9 8\n",
       "\n",
       "[[3]]\n",
       "  VECTOR VEC0 VEC1 VEC2 VEC3 VEC4 VEC5 VEC6\n",
       "1   vec1    7   14   49    5  cac  gac  gag\n",
       "2   vec2    5   10   25    3  cac  gac  gag\n",
       "3   vec3    8   16   64    6  cac  gac  gag\n",
       "4   vec4    9   18   81    7  cac  gac  gag\n",
       "5   vec5    8   16   64    6  cac  gac  gag\n"
      ]
     },
     "metadata": {},
     "output_type": "display_data"
    }
   ],
   "source": [
    "LA_LISTA <- list(OBJETO, VEC0, DFRAME)\n",
    "LA_LISTA"
   ]
  },
  {
   "cell_type": "code",
   "execution_count": 23,
   "id": "3d4537ae-d1db-4196-b754-04b2fea470fa",
   "metadata": {},
   "outputs": [
    {
     "name": "stdout",
     "output_type": "stream",
     "text": [
      "[1] 21\n",
      "[1] 15\n",
      "[1] 24\n",
      "[1] 27\n",
      "[1] 24\n"
     ]
    }
   ],
   "source": [
    "for (value in VEC0) {\n",
    "  print(value * 3)\n",
    "}"
   ]
  },
  {
   "cell_type": "code",
   "execution_count": 24,
   "id": "3a09b6ad-bc3b-4920-91fb-cd8423b3cc9b",
   "metadata": {},
   "outputs": [
    {
     "name": "stdout",
     "output_type": "stream",
     "text": [
      "gag 7\n",
      "gag 5\n",
      "gag 8\n",
      "gag 9\n",
      "gag 8\n"
     ]
    }
   ],
   "source": [
    "combined <- mapply(function(x, y) paste(x, y), DFRAME$VEC6, DFRAME$VEC0)\n",
    "cat(combined, sep = \"\\n\")"
   ]
  },
  {
   "cell_type": "markdown",
   "id": "54e25e10-640d-4de5-8f90-7129d38263ea",
   "metadata": {},
   "source": [
    "Reescribir el VEC1 del DATAFRAME para que sus elementos sean: el doble de VEC_0 cuando éste sea mayor a 2 e iguales a VEC_0 para el resto de los casos. Hint: usar la función ifelse()"
   ]
  },
  {
   "cell_type": "code",
   "execution_count": 25,
   "id": "7ca3e798-75ab-493a-aeb3-04dab521f40a",
   "metadata": {},
   "outputs": [
    {
     "data": {
      "text/html": [
       "<style>\n",
       ".list-inline {list-style: none; margin:0; padding: 0}\n",
       ".list-inline>li {display: inline-block}\n",
       ".list-inline>li:not(:last-child)::after {content: \"\\00b7\"; padding: 0 .5ex}\n",
       "</style>\n",
       "<ol class=list-inline><li>14</li><li>10</li><li>16</li><li>18</li><li>16</li></ol>\n"
      ],
      "text/latex": [
       "\\begin{enumerate*}\n",
       "\\item 14\n",
       "\\item 10\n",
       "\\item 16\n",
       "\\item 18\n",
       "\\item 16\n",
       "\\end{enumerate*}\n"
      ],
      "text/markdown": [
       "1. 14\n",
       "2. 10\n",
       "3. 16\n",
       "4. 18\n",
       "5. 16\n",
       "\n",
       "\n"
      ],
      "text/plain": [
       "[1] 14 10 16 18 16"
      ]
     },
     "metadata": {},
     "output_type": "display_data"
    }
   ],
   "source": [
    "DFRAME$VEC1 <- ifelse(DFRAME$VEC0 > 2, DFRAME$VEC0 * 2, DFRAME$VEC0)\n",
    "DFRAME$VEC1"
   ]
  },
  {
   "cell_type": "code",
   "execution_count": 26,
   "id": "db15f9ae-1253-48a0-99cd-0cee9638a085",
   "metadata": {},
   "outputs": [],
   "source": [
    "Hola_Mundo <- function() {\n",
    "  print(\"Hola mundo\")\n",
    "}"
   ]
  },
  {
   "cell_type": "code",
   "execution_count": 27,
   "id": "ba5f2f36-354d-4392-9188-0eeef4bac8d8",
   "metadata": {},
   "outputs": [],
   "source": [
    "Sumatoria_enteros <- function(x){\n",
    "    print(sum(seq(1, x)))\n",
    "    }"
   ]
  },
  {
   "cell_type": "code",
   "execution_count": 28,
   "id": "42ddea0a-c052-4262-8de5-443e884fb478",
   "metadata": {},
   "outputs": [
    {
     "name": "stdout",
     "output_type": "stream",
     "text": [
      "[1] 15\n"
     ]
    }
   ],
   "source": [
    "Sumatoria_enteros(5)"
   ]
  },
  {
   "cell_type": "code",
   "execution_count": 52,
   "id": "3e7ef5b6",
   "metadata": {},
   "outputs": [
    {
     "name": "stdout",
     "output_type": "stream",
     "text": [
      "14\n",
      "$dimensions\n",
      "[1] 5 3\n",
      "\n",
      "$message\n",
      "[1] \"El primer elemento es par\"\n",
      "\n"
     ]
    }
   ],
   "source": [
    "primer_elem_matriz <- function(X) {\n",
    "\n",
    "  if (!is.matrix(X)) {\n",
    "    stop(\"El parámetro X debe ser una matriz\")\n",
    "  }\n",
    "  \n",
    "\n",
    "  dims <- dim(X)\n",
    "  \n",
    "  cat(X[1],sep = \"\\n\")\n",
    "  if (X[1] %% 2 == 0) {\n",
    "    paridad <- \"El primer elemento es par\"\n",
    "  } else {\n",
    "    paridad <- \"El primer elemento no es par\"\n",
    "  }\n",
    "  \n",
    "  list(dimensions = dims, message = paridad)\n",
    "}\n",
    "\n",
    "selected_df <- DFRAME[, c(\"VEC1\", \"VEC2\", \"VEC3\")]\n",
    "matriz_DFRAME <- as.matrix(selected_df)\n",
    "resultado <- primer_elem_matriz(matriz_DFRAME)\n",
    "print(resultado)"
   ]
  },
  {
   "cell_type": "markdown",
   "id": "a3cfc838",
   "metadata": {},
   "source": [
    "# Ejercicio 2 "
   ]
  },
  {
   "cell_type": "markdown",
   "id": "25e72842",
   "metadata": {},
   "source": [
    "individualt120 <- read.table(\"/Users/bita/data/eea2024/EEA-2024/Fuentes/usu_individual_T120.txt\", \n",
    "                             sep=\";\", \n",
    "                             header=TRUE, \n",
    "                             stringsAsFactors=FALSE)"
   ]
  },
  {
   "cell_type": "code",
   "execution_count": 111,
   "id": "3e87b44c",
   "metadata": {},
   "outputs": [],
   "source": [
    "individualt120 <- read.csv(\"/Users/bita/data/eea2024/EEA-2024/Fuentes/usu_individual_T120.txt\",\n",
    "                          sep=\";\")"
   ]
  },
  {
   "cell_type": "code",
   "execution_count": 112,
   "id": "27d88362",
   "metadata": {},
   "outputs": [
    {
     "data": {
      "text/html": [
       "<table class=\"dataframe\">\n",
       "<caption>A data.frame: 6 × 177</caption>\n",
       "<thead>\n",
       "\t<tr><th></th><th scope=col>CODUSU</th><th scope=col>ANO4</th><th scope=col>TRIMESTRE</th><th scope=col>NRO_HOGAR</th><th scope=col>COMPONENTE</th><th scope=col>H15</th><th scope=col>REGION</th><th scope=col>MAS_500</th><th scope=col>AGLOMERADO</th><th scope=col>PONDERA</th><th scope=col>⋯</th><th scope=col>PDECIFR</th><th scope=col>ADECIFR</th><th scope=col>IPCF</th><th scope=col>DECCFR</th><th scope=col>IDECCFR</th><th scope=col>RDECCFR</th><th scope=col>GDECCFR</th><th scope=col>PDECCFR</th><th scope=col>ADECCFR</th><th scope=col>PONDIH</th></tr>\n",
       "\t<tr><th></th><th scope=col>&lt;chr&gt;</th><th scope=col>&lt;int&gt;</th><th scope=col>&lt;int&gt;</th><th scope=col>&lt;int&gt;</th><th scope=col>&lt;int&gt;</th><th scope=col>&lt;int&gt;</th><th scope=col>&lt;int&gt;</th><th scope=col>&lt;lgl&gt;</th><th scope=col>&lt;int&gt;</th><th scope=col>&lt;int&gt;</th><th scope=col>⋯</th><th scope=col>&lt;lgl&gt;</th><th scope=col>&lt;int&gt;</th><th scope=col>&lt;chr&gt;</th><th scope=col>&lt;int&gt;</th><th scope=col>&lt;int&gt;</th><th scope=col>&lt;int&gt;</th><th scope=col>&lt;lgl&gt;</th><th scope=col>&lt;lgl&gt;</th><th scope=col>&lt;int&gt;</th><th scope=col>&lt;int&gt;</th></tr>\n",
       "</thead>\n",
       "<tbody>\n",
       "\t<tr><th scope=row>1</th><td>TQRMNORVSHJOLPCDEGOIH00625031</td><td>2020</td><td>1</td><td>1</td><td>5</td><td>1</td><td>40</td><td>NA</td><td>18</td><td>230</td><td>⋯</td><td>NA</td><td>6</td><td>5406,25</td><td>1</td><td>1</td><td>2</td><td>NA</td><td>NA</td><td>2</td><td>230</td></tr>\n",
       "\t<tr><th scope=row>2</th><td>TQRMNORVSHJOLPCDEGOIH00625031</td><td>2020</td><td>1</td><td>1</td><td>6</td><td>1</td><td>40</td><td>NA</td><td>18</td><td>230</td><td>⋯</td><td>NA</td><td>6</td><td>5406,25</td><td>1</td><td>1</td><td>2</td><td>NA</td><td>NA</td><td>2</td><td>230</td></tr>\n",
       "\t<tr><th scope=row>3</th><td>TQRMNORVSHJOLPCDEGOIH00625031</td><td>2020</td><td>1</td><td>1</td><td>7</td><td>0</td><td>40</td><td>NA</td><td>18</td><td>230</td><td>⋯</td><td>NA</td><td>6</td><td>5406,25</td><td>1</td><td>1</td><td>2</td><td>NA</td><td>NA</td><td>2</td><td>230</td></tr>\n",
       "\t<tr><th scope=row>4</th><td>TQRMNORVSHJOLPCDEGOIH00625031</td><td>2020</td><td>1</td><td>1</td><td>8</td><td>0</td><td>40</td><td>NA</td><td>18</td><td>230</td><td>⋯</td><td>NA</td><td>6</td><td>5406,25</td><td>1</td><td>1</td><td>2</td><td>NA</td><td>NA</td><td>2</td><td>230</td></tr>\n",
       "\t<tr><th scope=row>5</th><td>TQSMNOQRQHLMLPCDEGOIH00654347</td><td>2020</td><td>1</td><td>1</td><td>1</td><td>1</td><td>40</td><td>NA</td><td>18</td><td>182</td><td>⋯</td><td>NA</td><td>2</td><td>6500   </td><td>2</td><td>2</td><td>2</td><td>NA</td><td>NA</td><td>2</td><td>181</td></tr>\n",
       "\t<tr><th scope=row>6</th><td>TQSMNOQRQHLMLPCDEGOIH00654347</td><td>2020</td><td>1</td><td>1</td><td>2</td><td>1</td><td>40</td><td>NA</td><td>18</td><td>182</td><td>⋯</td><td>NA</td><td>2</td><td>6500   </td><td>2</td><td>2</td><td>2</td><td>NA</td><td>NA</td><td>2</td><td>181</td></tr>\n",
       "</tbody>\n",
       "</table>\n"
      ],
      "text/latex": [
       "A data.frame: 6 × 177\n",
       "\\begin{tabular}{r|lllllllllllllllllllll}\n",
       "  & CODUSU & ANO4 & TRIMESTRE & NRO\\_HOGAR & COMPONENTE & H15 & REGION & MAS\\_500 & AGLOMERADO & PONDERA & ⋯ & PDECIFR & ADECIFR & IPCF & DECCFR & IDECCFR & RDECCFR & GDECCFR & PDECCFR & ADECCFR & PONDIH\\\\\n",
       "  & <chr> & <int> & <int> & <int> & <int> & <int> & <int> & <lgl> & <int> & <int> & ⋯ & <lgl> & <int> & <chr> & <int> & <int> & <int> & <lgl> & <lgl> & <int> & <int>\\\\\n",
       "\\hline\n",
       "\t1 & TQRMNORVSHJOLPCDEGOIH00625031 & 2020 & 1 & 1 & 5 & 1 & 40 & NA & 18 & 230 & ⋯ & NA & 6 & 5406,25 & 1 & 1 & 2 & NA & NA & 2 & 230\\\\\n",
       "\t2 & TQRMNORVSHJOLPCDEGOIH00625031 & 2020 & 1 & 1 & 6 & 1 & 40 & NA & 18 & 230 & ⋯ & NA & 6 & 5406,25 & 1 & 1 & 2 & NA & NA & 2 & 230\\\\\n",
       "\t3 & TQRMNORVSHJOLPCDEGOIH00625031 & 2020 & 1 & 1 & 7 & 0 & 40 & NA & 18 & 230 & ⋯ & NA & 6 & 5406,25 & 1 & 1 & 2 & NA & NA & 2 & 230\\\\\n",
       "\t4 & TQRMNORVSHJOLPCDEGOIH00625031 & 2020 & 1 & 1 & 8 & 0 & 40 & NA & 18 & 230 & ⋯ & NA & 6 & 5406,25 & 1 & 1 & 2 & NA & NA & 2 & 230\\\\\n",
       "\t5 & TQSMNOQRQHLMLPCDEGOIH00654347 & 2020 & 1 & 1 & 1 & 1 & 40 & NA & 18 & 182 & ⋯ & NA & 2 & 6500    & 2 & 2 & 2 & NA & NA & 2 & 181\\\\\n",
       "\t6 & TQSMNOQRQHLMLPCDEGOIH00654347 & 2020 & 1 & 1 & 2 & 1 & 40 & NA & 18 & 182 & ⋯ & NA & 2 & 6500    & 2 & 2 & 2 & NA & NA & 2 & 181\\\\\n",
       "\\end{tabular}\n"
      ],
      "text/markdown": [
       "\n",
       "A data.frame: 6 × 177\n",
       "\n",
       "| <!--/--> | CODUSU &lt;chr&gt; | ANO4 &lt;int&gt; | TRIMESTRE &lt;int&gt; | NRO_HOGAR &lt;int&gt; | COMPONENTE &lt;int&gt; | H15 &lt;int&gt; | REGION &lt;int&gt; | MAS_500 &lt;lgl&gt; | AGLOMERADO &lt;int&gt; | PONDERA &lt;int&gt; | ⋯ ⋯ | PDECIFR &lt;lgl&gt; | ADECIFR &lt;int&gt; | IPCF &lt;chr&gt; | DECCFR &lt;int&gt; | IDECCFR &lt;int&gt; | RDECCFR &lt;int&gt; | GDECCFR &lt;lgl&gt; | PDECCFR &lt;lgl&gt; | ADECCFR &lt;int&gt; | PONDIH &lt;int&gt; |\n",
       "|---|---|---|---|---|---|---|---|---|---|---|---|---|---|---|---|---|---|---|---|---|---|\n",
       "| 1 | TQRMNORVSHJOLPCDEGOIH00625031 | 2020 | 1 | 1 | 5 | 1 | 40 | NA | 18 | 230 | ⋯ | NA | 6 | 5406,25 | 1 | 1 | 2 | NA | NA | 2 | 230 |\n",
       "| 2 | TQRMNORVSHJOLPCDEGOIH00625031 | 2020 | 1 | 1 | 6 | 1 | 40 | NA | 18 | 230 | ⋯ | NA | 6 | 5406,25 | 1 | 1 | 2 | NA | NA | 2 | 230 |\n",
       "| 3 | TQRMNORVSHJOLPCDEGOIH00625031 | 2020 | 1 | 1 | 7 | 0 | 40 | NA | 18 | 230 | ⋯ | NA | 6 | 5406,25 | 1 | 1 | 2 | NA | NA | 2 | 230 |\n",
       "| 4 | TQRMNORVSHJOLPCDEGOIH00625031 | 2020 | 1 | 1 | 8 | 0 | 40 | NA | 18 | 230 | ⋯ | NA | 6 | 5406,25 | 1 | 1 | 2 | NA | NA | 2 | 230 |\n",
       "| 5 | TQSMNOQRQHLMLPCDEGOIH00654347 | 2020 | 1 | 1 | 1 | 1 | 40 | NA | 18 | 182 | ⋯ | NA | 2 | 6500    | 2 | 2 | 2 | NA | NA | 2 | 181 |\n",
       "| 6 | TQSMNOQRQHLMLPCDEGOIH00654347 | 2020 | 1 | 1 | 2 | 1 | 40 | NA | 18 | 182 | ⋯ | NA | 2 | 6500    | 2 | 2 | 2 | NA | NA | 2 | 181 |\n",
       "\n"
      ],
      "text/plain": [
       "  CODUSU                        ANO4 TRIMESTRE NRO_HOGAR COMPONENTE H15 REGION\n",
       "1 TQRMNORVSHJOLPCDEGOIH00625031 2020 1         1         5          1   40    \n",
       "2 TQRMNORVSHJOLPCDEGOIH00625031 2020 1         1         6          1   40    \n",
       "3 TQRMNORVSHJOLPCDEGOIH00625031 2020 1         1         7          0   40    \n",
       "4 TQRMNORVSHJOLPCDEGOIH00625031 2020 1         1         8          0   40    \n",
       "5 TQSMNOQRQHLMLPCDEGOIH00654347 2020 1         1         1          1   40    \n",
       "6 TQSMNOQRQHLMLPCDEGOIH00654347 2020 1         1         2          1   40    \n",
       "  MAS_500 AGLOMERADO PONDERA ⋯ PDECIFR ADECIFR IPCF    DECCFR IDECCFR RDECCFR\n",
       "1 NA      18         230     ⋯ NA      6       5406,25 1      1       2      \n",
       "2 NA      18         230     ⋯ NA      6       5406,25 1      1       2      \n",
       "3 NA      18         230     ⋯ NA      6       5406,25 1      1       2      \n",
       "4 NA      18         230     ⋯ NA      6       5406,25 1      1       2      \n",
       "5 NA      18         182     ⋯ NA      2       6500    2      2       2      \n",
       "6 NA      18         182     ⋯ NA      2       6500    2      2       2      \n",
       "  GDECCFR PDECCFR ADECCFR PONDIH\n",
       "1 NA      NA      2       230   \n",
       "2 NA      NA      2       230   \n",
       "3 NA      NA      2       230   \n",
       "4 NA      NA      2       230   \n",
       "5 NA      NA      2       181   \n",
       "6 NA      NA      2       181   "
      ]
     },
     "metadata": {},
     "output_type": "display_data"
    }
   ],
   "source": [
    "head(individualt120)\n"
   ]
  },
  {
   "cell_type": "code",
   "execution_count": 106,
   "id": "f10bb332",
   "metadata": {},
   "outputs": [
    {
     "name": "stdout",
     "output_type": "stream",
     "text": [
      "Rows: 51,643\n",
      "Columns: 177\n",
      "$ CODUSU     \u001b[3m\u001b[90m<chr>\u001b[39m\u001b[23m \"TQRMNORVSHJOLPCDEGOIH00625031\", \"TQRMNORVSHJOLPCDEGOIH0062…\n",
      "$ ANO4       \u001b[3m\u001b[90m<int>\u001b[39m\u001b[23m 2020, 2020, 2020, 2020, 2020, 2020, 2020, 2020, 2020, 2020,…\n",
      "$ TRIMESTRE  \u001b[3m\u001b[90m<int>\u001b[39m\u001b[23m 1, 1, 1, 1, 1, 1, 1, 1, 1, 1, 1, 1, 1, 1, 1, 1, 1, 1, 1, 1,…\n",
      "$ NRO_HOGAR  \u001b[3m\u001b[90m<int>\u001b[39m\u001b[23m 1, 1, 1, 1, 1, 1, 1, 1, 1, 1, 1, 1, 1, 1, 1, 1, 1, 1, 1, 1,…\n",
      "$ COMPONENTE \u001b[3m\u001b[90m<int>\u001b[39m\u001b[23m 5, 6, 7, 8, 1, 2, 3, 1, 2, 3, 4, 1, 2, 3, 4, 5, 4, 5, 3, 4,…\n",
      "$ H15        \u001b[3m\u001b[90m<int>\u001b[39m\u001b[23m 1, 1, 0, 0, 1, 1, 0, 1, 1, 1, 1, 1, 1, 1, 1, 1, 1, 1, 1, 1,…\n",
      "$ REGION     \u001b[3m\u001b[90m<int>\u001b[39m\u001b[23m 40, 40, 40, 40, 40, 40, 40, 40, 40, 40, 40, 40, 40, 40, 40,…\n",
      "$ MAS_500    \u001b[3m\u001b[90m<lgl>\u001b[39m\u001b[23m NA, NA, NA, NA, NA, NA, NA, NA, NA, NA, NA, NA, NA, NA, NA,…\n",
      "$ AGLOMERADO \u001b[3m\u001b[90m<int>\u001b[39m\u001b[23m 18, 18, 18, 18, 18, 18, 18, 18, 18, 18, 18, 18, 18, 18, 18,…\n",
      "$ PONDERA    \u001b[3m\u001b[90m<int>\u001b[39m\u001b[23m 230, 230, 230, 230, 182, 182, 182, 261, 261, 261, 261, 220,…\n",
      "$ CH03       \u001b[3m\u001b[90m<int>\u001b[39m\u001b[23m 3, 3, 3, 3, 1, 2, 3, 1, 2, 3, 3, 1, 2, 3, 3, 5, 1, 8, 3, 3,…\n",
      "$ CH04       \u001b[3m\u001b[90m<int>\u001b[39m\u001b[23m 2, 1, 2, 1, 1, 2, 2, 1, 2, 1, 1, 1, 2, 1, 1, 1, 1, 1, 2, 1,…\n",
      "$ CH05       \u001b[3m\u001b[90m<chr>\u001b[39m\u001b[23m \"31/01/2002\", \"16/07/2007\", \"22/01/2014\", \"20/02/2019\", \"30…\n",
      "$ CH06       \u001b[3m\u001b[90m<int>\u001b[39m\u001b[23m 18, 12, 6, 1, 29, 27, 1, 46, 42, 14, 10, 52, 57, 34, 36, 18…\n",
      "$ CH07       \u001b[3m\u001b[90m<int>\u001b[39m\u001b[23m 5, 5, 5, 5, 1, 1, 5, 2, 2, 5, 5, 1, 1, 5, 5, 5, 5, 5, 5, 5,…\n",
      "$ CH08       \u001b[3m\u001b[90m<int>\u001b[39m\u001b[23m 4, 4, 4, 4, 4, 4, 4, 1, 1, 1, 1, 1, 4, 4, 4, 4, 4, 4, 4, 4,…\n",
      "$ CH09       \u001b[3m\u001b[90m<int>\u001b[39m\u001b[23m 1, 1, 1, 3, 1, 1, 3, 1, 1, 1, 1, 1, 1, 1, 1, 1, 2, 2, 1, 1,…\n",
      "$ CH10       \u001b[3m\u001b[90m<int>\u001b[39m\u001b[23m 1, 1, 1, 0, 2, 2, 0, 2, 2, 2, 2, 2, 2, 2, 2, 2, 3, 3, 2, 1,…\n",
      "$ CH11       \u001b[3m\u001b[90m<int>\u001b[39m\u001b[23m 1, 1, 1, 0, 0, 0, 0, 0, 0, 0, 0, 0, 0, 0, 0, 0, 0, 0, 0, 1,…\n",
      "$ CH12       \u001b[3m\u001b[90m<int>\u001b[39m\u001b[23m 4, 2, 2, 0, 4, 4, 0, 7, 7, 2, 2, 2, 2, 4, 4, 4, 0, 0, 4, 4,…\n",
      "$ CH13       \u001b[3m\u001b[90m<int>\u001b[39m\u001b[23m 2, 2, 2, 0, 2, 1, 0, 1, 1, 2, 2, 1, 1, 2, 1, 2, 0, 0, 1, 2,…\n",
      "$ CH14       \u001b[3m\u001b[90m<int>\u001b[39m\u001b[23m 2, 6, 0, NA, 3, NA, NA, NA, NA, 2, 2, NA, NA, 3, NA, 2, NA,…\n",
      "$ CH15       \u001b[3m\u001b[90m<int>\u001b[39m\u001b[23m 1, 1, 1, 1, 1, 1, 1, 1, 1, 1, 1, 1, 1, 1, 1, 1, 1, 1, 1, 1,…\n",
      "$ CH15_COD   \u001b[3m\u001b[90m<int>\u001b[39m\u001b[23m NA, NA, NA, NA, NA, NA, NA, NA, NA, NA, NA, NA, NA, NA, NA,…\n",
      "$ CH16       \u001b[3m\u001b[90m<int>\u001b[39m\u001b[23m 1, 1, 1, 6, 1, 1, 6, 1, 1, 1, 1, 1, 1, 1, 1, 1, 1, 1, 1, 1,…\n",
      "$ CH16_COD   \u001b[3m\u001b[90m<int>\u001b[39m\u001b[23m NA, NA, NA, NA, NA, NA, NA, NA, NA, NA, NA, NA, NA, NA, NA,…\n",
      "$ NIVEL_ED   \u001b[3m\u001b[90m<int>\u001b[39m\u001b[23m 3, 1, 1, 7, 3, 4, 7, 6, 6, 1, 1, 2, 2, 3, 4, 3, 7, 7, 4, 3,…\n",
      "$ ESTADO     \u001b[3m\u001b[90m<int>\u001b[39m\u001b[23m 3, 3, 4, 4, 1, 3, 4, 1, 3, 3, 3, 3, 3, 1, 1, 3, 1, 1, 1, 3,…\n",
      "$ CAT_OCUP   \u001b[3m\u001b[90m<int>\u001b[39m\u001b[23m 0, 0, 0, 0, 2, 0, 0, 2, 0, 0, 0, 0, 0, 3, 3, 0, 3, 2, 2, 0,…\n",
      "$ CAT_INAC   \u001b[3m\u001b[90m<int>\u001b[39m\u001b[23m 3, 3, 3, 5, 0, 4, 5, 0, 4, 7, 7, 1, 4, 0, 0, 7, 0, 0, 0, 3,…\n",
      "$ IMPUTA     \u001b[3m\u001b[90m<int>\u001b[39m\u001b[23m 0, 0, 0, 0, 0, 0, 0, 0, 0, 0, 0, 0, 0, 0, 0, 0, 0, 0, 0, 0,…\n",
      "$ PP02C1     \u001b[3m\u001b[90m<int>\u001b[39m\u001b[23m 0, 0, 0, 0, 0, 0, 0, 0, 0, 0, 0, 0, 0, 0, 0, 0, 0, 0, 0, 0,…\n",
      "$ PP02C2     \u001b[3m\u001b[90m<int>\u001b[39m\u001b[23m 0, 0, 0, 0, 0, 0, 0, 0, 0, 0, 0, 0, 0, 0, 0, 0, 0, 0, 0, 0,…\n",
      "$ PP02C3     \u001b[3m\u001b[90m<int>\u001b[39m\u001b[23m 0, 0, 0, 0, 0, 0, 0, 0, 0, 0, 0, 0, 0, 0, 0, 0, 0, 0, 0, 0,…\n",
      "$ PP02C4     \u001b[3m\u001b[90m<int>\u001b[39m\u001b[23m 0, 0, 0, 0, 0, 0, 0, 0, 0, 0, 0, 0, 0, 0, 0, 0, 0, 0, 0, 0,…\n",
      "$ PP02C5     \u001b[3m\u001b[90m<int>\u001b[39m\u001b[23m 0, 0, 0, 0, 0, 0, 0, 0, 0, 0, 0, 0, 0, 0, 0, 0, 0, 0, 0, 0,…\n",
      "$ PP02C6     \u001b[3m\u001b[90m<int>\u001b[39m\u001b[23m 0, 0, 0, 0, 0, 0, 0, 0, 0, 0, 0, 0, 0, 0, 0, 0, 0, 0, 0, 0,…\n",
      "$ PP02C7     \u001b[3m\u001b[90m<int>\u001b[39m\u001b[23m 0, 0, 0, 0, 0, 0, 0, 0, 0, 0, 0, 0, 0, 0, 0, 0, 0, 0, 0, 0,…\n",
      "$ PP02C8     \u001b[3m\u001b[90m<int>\u001b[39m\u001b[23m 0, 0, 0, 0, 0, 0, 0, 0, 0, 0, 0, 0, 0, 0, 0, 0, 0, 0, 0, 0,…\n",
      "$ PP02E      \u001b[3m\u001b[90m<int>\u001b[39m\u001b[23m 0, 0, 0, 0, 0, 0, 0, 0, 0, 0, 0, 0, 0, 0, 0, 0, 0, 0, 0, 0,…\n",
      "$ PP02H      \u001b[3m\u001b[90m<int>\u001b[39m\u001b[23m 2, 2, 0, 0, 0, 2, 0, 0, 2, 2, 2, 2, 2, 0, 0, 2, 0, 0, 0, 2,…\n",
      "$ PP02I      \u001b[3m\u001b[90m<int>\u001b[39m\u001b[23m 2, 2, 0, 0, 0, 2, 0, 0, 2, 2, 2, 2, 2, 0, 0, 2, 0, 0, 0, 2,…\n",
      "$ PP03C      \u001b[3m\u001b[90m<int>\u001b[39m\u001b[23m NA, NA, NA, NA, 1, NA, NA, 2, NA, NA, NA, NA, NA, 1, 1, NA,…\n",
      "$ PP03D      \u001b[3m\u001b[90m<int>\u001b[39m\u001b[23m NA, NA, NA, NA, 0, NA, NA, 2, NA, NA, NA, NA, NA, 0, 0, NA,…\n",
      "$ PP3E_TOT   \u001b[3m\u001b[90m<int>\u001b[39m\u001b[23m NA, NA, NA, NA, 40, NA, NA, 40, NA, NA, NA, NA, NA, 45, 54,…\n",
      "$ PP3F_TOT   \u001b[3m\u001b[90m<int>\u001b[39m\u001b[23m NA, NA, NA, NA, 0, NA, NA, 18, NA, NA, NA, NA, NA, 0, 0, NA…\n",
      "$ PP03G      \u001b[3m\u001b[90m<int>\u001b[39m\u001b[23m NA, NA, NA, NA, 1, NA, NA, 2, NA, NA, NA, NA, NA, 2, 2, NA,…\n",
      "$ PP03H      \u001b[3m\u001b[90m<int>\u001b[39m\u001b[23m NA, NA, NA, NA, 1, NA, NA, 0, NA, NA, NA, NA, NA, 0, 0, NA,…\n",
      "$ PP03I      \u001b[3m\u001b[90m<int>\u001b[39m\u001b[23m NA, NA, NA, NA, 1, NA, NA, 2, NA, NA, NA, NA, NA, 2, 2, NA,…\n",
      "$ PP03J      \u001b[3m\u001b[90m<int>\u001b[39m\u001b[23m NA, NA, NA, NA, 1, NA, NA, 2, NA, NA, NA, NA, NA, 2, 2, NA,…\n",
      "$ INTENSI    \u001b[3m\u001b[90m<int>\u001b[39m\u001b[23m NA, NA, NA, NA, 2, NA, NA, 3, NA, NA, NA, NA, NA, 2, 3, NA,…\n",
      "$ PP04A      \u001b[3m\u001b[90m<int>\u001b[39m\u001b[23m NA, NA, NA, NA, 2, NA, NA, 2, NA, NA, NA, NA, NA, 2, 2, NA,…\n",
      "$ PP04B_COD  \u001b[3m\u001b[90m<int>\u001b[39m\u001b[23m NA, NA, NA, NA, 4000, NA, NA, 8600, NA, NA, NA, NA, NA, 400…\n",
      "$ PP04B1     \u001b[3m\u001b[90m<int>\u001b[39m\u001b[23m NA, NA, NA, NA, 2, NA, NA, 2, NA, NA, NA, NA, NA, 2, 2, NA,…\n",
      "$ PP04B2     \u001b[3m\u001b[90m<int>\u001b[39m\u001b[23m NA, NA, NA, NA, 0, NA, NA, 0, NA, NA, NA, NA, NA, 0, 0, NA,…\n",
      "$ PP04B3_MES \u001b[3m\u001b[90m<int>\u001b[39m\u001b[23m NA, NA, NA, NA, 0, NA, NA, 0, NA, NA, NA, NA, NA, 0, 0, NA,…\n",
      "$ PP04B3_ANO \u001b[3m\u001b[90m<int>\u001b[39m\u001b[23m NA, NA, NA, NA, 0, NA, NA, 0, NA, NA, NA, NA, NA, 0, 0, NA,…\n",
      "$ PP04B3_DIA \u001b[3m\u001b[90m<int>\u001b[39m\u001b[23m NA, NA, NA, NA, 0, NA, NA, 0, NA, NA, NA, NA, NA, 0, 0, NA,…\n",
      "$ PP04C      \u001b[3m\u001b[90m<int>\u001b[39m\u001b[23m NA, NA, NA, NA, 1, NA, NA, 1, NA, NA, NA, NA, NA, 4, 2, NA,…\n",
      "$ PP04C99    \u001b[3m\u001b[90m<int>\u001b[39m\u001b[23m NA, NA, NA, NA, 0, NA, NA, 0, NA, NA, NA, NA, NA, 0, 0, NA,…\n",
      "$ PP04D_COD  \u001b[3m\u001b[90m<int>\u001b[39m\u001b[23m NA, NA, NA, NA, 72113, NA, NA, 40111, NA, NA, NA, NA, NA, 7…\n",
      "$ PP04G      \u001b[3m\u001b[90m<int>\u001b[39m\u001b[23m NA, NA, NA, NA, 8, NA, NA, 6, NA, NA, NA, NA, NA, 8, 8, NA,…\n",
      "$ PP05B2_MES \u001b[3m\u001b[90m<int>\u001b[39m\u001b[23m NA, NA, NA, NA, 0, NA, NA, 0, NA, NA, NA, NA, NA, 0, 0, NA,…\n",
      "$ PP05B2_ANO \u001b[3m\u001b[90m<int>\u001b[39m\u001b[23m NA, NA, NA, NA, 0, NA, NA, 0, NA, NA, NA, NA, NA, 0, 0, NA,…\n",
      "$ PP05B2_DIA \u001b[3m\u001b[90m<int>\u001b[39m\u001b[23m NA, NA, NA, NA, 0, NA, NA, 0, NA, NA, NA, NA, NA, 0, 0, NA,…\n",
      "$ PP05C_1    \u001b[3m\u001b[90m<int>\u001b[39m\u001b[23m NA, NA, NA, NA, 3, NA, NA, 1, NA, NA, NA, NA, NA, 0, 0, NA,…\n",
      "$ PP05C_2    \u001b[3m\u001b[90m<int>\u001b[39m\u001b[23m NA, NA, NA, NA, 3, NA, NA, 1, NA, NA, NA, NA, NA, 0, 0, NA,…\n",
      "$ PP05C_3    \u001b[3m\u001b[90m<int>\u001b[39m\u001b[23m NA, NA, NA, NA, 3, NA, NA, 1, NA, NA, NA, NA, NA, 0, 0, NA,…\n",
      "$ PP05E      \u001b[3m\u001b[90m<int>\u001b[39m\u001b[23m NA, NA, NA, NA, 2, NA, NA, 1, NA, NA, NA, NA, NA, 0, 0, NA,…\n",
      "$ PP05F      \u001b[3m\u001b[90m<int>\u001b[39m\u001b[23m NA, NA, NA, NA, 7, NA, NA, 7, NA, NA, NA, NA, NA, 0, 0, NA,…\n",
      "$ PP05H      \u001b[3m\u001b[90m<int>\u001b[39m\u001b[23m NA, NA, NA, NA, 4, NA, NA, 6, NA, NA, NA, NA, NA, 0, 0, NA,…\n",
      "$ PP06A      \u001b[3m\u001b[90m<int>\u001b[39m\u001b[23m NA, NA, NA, NA, 2, NA, NA, 2, NA, NA, NA, NA, NA, 0, 0, NA,…\n",
      "$ PP06C      \u001b[3m\u001b[90m<int>\u001b[39m\u001b[23m NA, NA, NA, NA, 15000, NA, NA, 70000, NA, NA, NA, NA, NA, 0…\n",
      "$ PP06D      \u001b[3m\u001b[90m<int>\u001b[39m\u001b[23m NA, NA, NA, NA, 0, NA, NA, 0, NA, NA, NA, NA, NA, 0, 0, NA,…\n",
      "$ PP06E      \u001b[3m\u001b[90m<int>\u001b[39m\u001b[23m NA, NA, NA, NA, 0, NA, NA, 0, NA, NA, NA, NA, NA, 0, 0, NA,…\n",
      "$ PP06H      \u001b[3m\u001b[90m<int>\u001b[39m\u001b[23m NA, NA, NA, NA, 0, NA, NA, 0, NA, NA, NA, NA, NA, 0, 0, NA,…\n",
      "$ PP07A      \u001b[3m\u001b[90m<int>\u001b[39m\u001b[23m NA, NA, NA, NA, 0, NA, NA, 0, NA, NA, NA, NA, NA, 6, 5, NA,…\n",
      "$ PP07C      \u001b[3m\u001b[90m<int>\u001b[39m\u001b[23m NA, NA, NA, NA, 0, NA, NA, 0, NA, NA, NA, NA, NA, 9, 9, NA,…\n",
      "$ PP07D      \u001b[3m\u001b[90m<int>\u001b[39m\u001b[23m NA, NA, NA, NA, 0, NA, NA, 0, NA, NA, NA, NA, NA, 9, 9, NA,…\n",
      "$ PP07E      \u001b[3m\u001b[90m<int>\u001b[39m\u001b[23m NA, NA, NA, NA, 0, NA, NA, 0, NA, NA, NA, NA, NA, 4, 4, NA,…\n",
      "$ PP07F1     \u001b[3m\u001b[90m<int>\u001b[39m\u001b[23m NA, NA, NA, NA, 0, NA, NA, 0, NA, NA, NA, NA, NA, 2, 2, NA,…\n",
      "$ PP07F2     \u001b[3m\u001b[90m<int>\u001b[39m\u001b[23m NA, NA, NA, NA, 0, NA, NA, 0, NA, NA, NA, NA, NA, 2, 2, NA,…\n",
      "$ PP07F3     \u001b[3m\u001b[90m<int>\u001b[39m\u001b[23m NA, NA, NA, NA, 0, NA, NA, 0, NA, NA, NA, NA, NA, 2, 2, NA,…\n",
      "$ PP07F4     \u001b[3m\u001b[90m<int>\u001b[39m\u001b[23m NA, NA, NA, NA, 0, NA, NA, 0, NA, NA, NA, NA, NA, 2, 2, NA,…\n",
      "$ PP07F5     \u001b[3m\u001b[90m<int>\u001b[39m\u001b[23m NA, NA, NA, NA, 0, NA, NA, 0, NA, NA, NA, NA, NA, 5, 5, NA,…\n",
      "$ PP07G1     \u001b[3m\u001b[90m<int>\u001b[39m\u001b[23m NA, NA, NA, NA, 0, NA, NA, 0, NA, NA, NA, NA, NA, 2, 2, NA,…\n",
      "$ PP07G2     \u001b[3m\u001b[90m<int>\u001b[39m\u001b[23m NA, NA, NA, NA, 0, NA, NA, 0, NA, NA, NA, NA, NA, 2, 2, NA,…\n",
      "$ PP07G3     \u001b[3m\u001b[90m<int>\u001b[39m\u001b[23m NA, NA, NA, NA, 0, NA, NA, 0, NA, NA, NA, NA, NA, 2, 2, NA,…\n",
      "$ PP07G4     \u001b[3m\u001b[90m<int>\u001b[39m\u001b[23m NA, NA, NA, NA, 0, NA, NA, 0, NA, NA, NA, NA, NA, 2, 2, NA,…\n",
      "$ PP07G_59   \u001b[3m\u001b[90m<int>\u001b[39m\u001b[23m NA, NA, NA, NA, 0, NA, NA, 0, NA, NA, NA, NA, NA, 5, 5, NA,…\n",
      "$ PP07H      \u001b[3m\u001b[90m<int>\u001b[39m\u001b[23m NA, NA, NA, NA, 0, NA, NA, 0, NA, NA, NA, NA, NA, 2, 2, NA,…\n",
      "$ PP07I      \u001b[3m\u001b[90m<int>\u001b[39m\u001b[23m NA, NA, NA, NA, 0, NA, NA, 0, NA, NA, NA, NA, NA, 2, 2, NA,…\n",
      "$ PP07J      \u001b[3m\u001b[90m<int>\u001b[39m\u001b[23m NA, NA, NA, NA, 0, NA, NA, 0, NA, NA, NA, NA, NA, 1, 1, NA,…\n",
      "$ PP07K      \u001b[3m\u001b[90m<int>\u001b[39m\u001b[23m NA, NA, NA, NA, 0, NA, NA, 0, NA, NA, NA, NA, NA, 4, 4, NA,…\n",
      "$ PP08D1     \u001b[3m\u001b[90m<int>\u001b[39m\u001b[23m NA, NA, NA, NA, 0, NA, NA, 0, NA, NA, NA, NA, NA, 10000, 12…\n",
      "$ PP08D4     \u001b[3m\u001b[90m<int>\u001b[39m\u001b[23m NA, NA, NA, NA, 0, NA, NA, 0, NA, NA, NA, NA, NA, 0, 0, NA,…\n",
      "$ PP08F1     \u001b[3m\u001b[90m<int>\u001b[39m\u001b[23m NA, NA, NA, NA, 0, NA, NA, 0, NA, NA, NA, NA, NA, 0, 0, NA,…\n",
      "$ PP08F2     \u001b[3m\u001b[90m<int>\u001b[39m\u001b[23m NA, NA, NA, NA, 0, NA, NA, 0, NA, NA, NA, NA, NA, 0, 0, NA,…\n",
      "$ PP08J1     \u001b[3m\u001b[90m<int>\u001b[39m\u001b[23m NA, NA, NA, NA, 0, NA, NA, 0, NA, NA, NA, NA, NA, 0, 0, NA,…\n",
      "$ PP08J2     \u001b[3m\u001b[90m<int>\u001b[39m\u001b[23m NA, NA, NA, NA, 0, NA, NA, 0, NA, NA, NA, NA, NA, 0, 0, NA,…\n",
      "$ PP08J3     \u001b[3m\u001b[90m<int>\u001b[39m\u001b[23m NA, NA, NA, NA, 0, NA, NA, 0, NA, NA, NA, NA, NA, 0, 0, NA,…\n",
      "$ PP09A      \u001b[3m\u001b[90m<int>\u001b[39m\u001b[23m NA, NA, NA, NA, 0, NA, NA, 0, NA, NA, NA, NA, NA, 0, 0, NA,…\n",
      "$ PP09A_ESP  \u001b[3m\u001b[90m<chr>\u001b[39m\u001b[23m \"\", \"\", \"\", \"\", \"\", \"\", \"\", \"\", \"\", \"\", \"\", \"\", \"\", \"\", \"\",…\n",
      "$ PP09B      \u001b[3m\u001b[90m<int>\u001b[39m\u001b[23m NA, NA, NA, NA, 0, NA, NA, 0, NA, NA, NA, NA, NA, 0, 0, NA,…\n",
      "$ PP09C      \u001b[3m\u001b[90m<int>\u001b[39m\u001b[23m NA, NA, NA, NA, 0, NA, NA, 0, NA, NA, NA, NA, NA, 0, 0, NA,…\n",
      "$ PP09C_ESP  \u001b[3m\u001b[90m<chr>\u001b[39m\u001b[23m \"\", \"\", \"\", \"\", \"\", \"\", \"\", \"\", \"\", \"\", \"\", \"\", \"\", \"\", \"\",…\n",
      "$ PP10A      \u001b[3m\u001b[90m<int>\u001b[39m\u001b[23m NA, NA, NA, NA, NA, NA, NA, NA, NA, NA, NA, NA, NA, NA, NA,…\n",
      "$ PP10C      \u001b[3m\u001b[90m<int>\u001b[39m\u001b[23m NA, NA, NA, NA, NA, NA, NA, NA, NA, NA, NA, NA, NA, NA, NA,…\n",
      "$ PP10D      \u001b[3m\u001b[90m<int>\u001b[39m\u001b[23m NA, NA, NA, NA, NA, NA, NA, NA, NA, NA, NA, NA, NA, NA, NA,…\n",
      "$ PP10E      \u001b[3m\u001b[90m<int>\u001b[39m\u001b[23m NA, NA, NA, NA, NA, NA, NA, NA, NA, NA, NA, NA, NA, NA, NA,…\n",
      "$ PP11A      \u001b[3m\u001b[90m<int>\u001b[39m\u001b[23m NA, NA, NA, NA, NA, NA, NA, NA, NA, NA, NA, NA, NA, NA, NA,…\n",
      "$ PP11B_COD  \u001b[3m\u001b[90m<int>\u001b[39m\u001b[23m NA, NA, NA, NA, NA, NA, NA, NA, NA, NA, NA, NA, NA, NA, NA,…\n",
      "$ PP11B1     \u001b[3m\u001b[90m<int>\u001b[39m\u001b[23m NA, NA, NA, NA, NA, NA, NA, NA, NA, NA, NA, NA, NA, NA, NA,…\n",
      "$ PP11B2_MES \u001b[3m\u001b[90m<int>\u001b[39m\u001b[23m NA, NA, NA, NA, NA, NA, NA, NA, NA, NA, NA, NA, NA, NA, NA,…\n",
      "$ PP11B2_ANO \u001b[3m\u001b[90m<int>\u001b[39m\u001b[23m NA, NA, NA, NA, NA, NA, NA, NA, NA, NA, NA, NA, NA, NA, NA,…\n",
      "$ PP11B2_DIA \u001b[3m\u001b[90m<int>\u001b[39m\u001b[23m NA, NA, NA, NA, NA, NA, NA, NA, NA, NA, NA, NA, NA, NA, NA,…\n",
      "$ PP11C      \u001b[3m\u001b[90m<int>\u001b[39m\u001b[23m NA, NA, NA, NA, NA, NA, NA, NA, NA, NA, NA, NA, NA, NA, NA,…\n",
      "$ PP11C99    \u001b[3m\u001b[90m<int>\u001b[39m\u001b[23m NA, NA, NA, NA, NA, NA, NA, NA, NA, NA, NA, NA, NA, NA, NA,…\n",
      "$ PP11D_COD  \u001b[3m\u001b[90m<int>\u001b[39m\u001b[23m NA, NA, NA, NA, NA, NA, NA, NA, NA, NA, NA, NA, NA, NA, NA,…\n",
      "$ PP11G_ANO  \u001b[3m\u001b[90m<int>\u001b[39m\u001b[23m NA, NA, NA, NA, NA, NA, NA, NA, NA, NA, NA, NA, NA, NA, NA,…\n",
      "$ PP11G_MES  \u001b[3m\u001b[90m<int>\u001b[39m\u001b[23m NA, NA, NA, NA, NA, NA, NA, NA, NA, NA, NA, NA, NA, NA, NA,…\n",
      "$ PP11G_DIA  \u001b[3m\u001b[90m<int>\u001b[39m\u001b[23m NA, NA, NA, NA, NA, NA, NA, NA, NA, NA, NA, NA, NA, NA, NA,…\n",
      "$ PP11L      \u001b[3m\u001b[90m<int>\u001b[39m\u001b[23m NA, NA, NA, NA, NA, NA, NA, NA, NA, NA, NA, NA, NA, NA, NA,…\n",
      "$ PP11L1     \u001b[3m\u001b[90m<int>\u001b[39m\u001b[23m NA, NA, NA, NA, NA, NA, NA, NA, NA, NA, NA, NA, NA, NA, NA,…\n",
      "$ PP11M      \u001b[3m\u001b[90m<int>\u001b[39m\u001b[23m NA, NA, NA, NA, NA, NA, NA, NA, NA, NA, NA, NA, NA, NA, NA,…\n",
      "$ PP11N      \u001b[3m\u001b[90m<int>\u001b[39m\u001b[23m NA, NA, NA, NA, NA, NA, NA, NA, NA, NA, NA, NA, NA, NA, NA,…\n",
      "$ PP11O      \u001b[3m\u001b[90m<int>\u001b[39m\u001b[23m NA, NA, NA, NA, NA, NA, NA, NA, NA, NA, NA, NA, NA, NA, NA,…\n",
      "$ PP11P      \u001b[3m\u001b[90m<int>\u001b[39m\u001b[23m NA, NA, NA, NA, NA, NA, NA, NA, NA, NA, NA, NA, NA, NA, NA,…\n",
      "$ PP11Q      \u001b[3m\u001b[90m<int>\u001b[39m\u001b[23m NA, NA, NA, NA, NA, NA, NA, NA, NA, NA, NA, NA, NA, NA, NA,…\n",
      "$ PP11R      \u001b[3m\u001b[90m<int>\u001b[39m\u001b[23m NA, NA, NA, NA, NA, NA, NA, NA, NA, NA, NA, NA, NA, NA, NA,…\n",
      "$ PP11S      \u001b[3m\u001b[90m<int>\u001b[39m\u001b[23m NA, NA, NA, NA, NA, NA, NA, NA, NA, NA, NA, NA, NA, NA, NA,…\n",
      "$ PP11T      \u001b[3m\u001b[90m<int>\u001b[39m\u001b[23m NA, NA, NA, NA, NA, NA, NA, NA, NA, NA, NA, NA, NA, NA, NA,…\n",
      "$ P21        \u001b[3m\u001b[90m<int>\u001b[39m\u001b[23m 0, 0, 0, 0, 15000, 0, 0, 70000, 0, 0, 0, 0, 0, 10000, 12000…\n",
      "$ DECOCUR    \u001b[3m\u001b[90m<int>\u001b[39m\u001b[23m 0, 0, 0, 0, 3, 0, 0, 10, 0, 0, 0, 0, 0, 2, 3, 0, 2, 2, 2, 0…\n",
      "$ IDECOCUR   \u001b[3m\u001b[90m<int>\u001b[39m\u001b[23m 0, 0, 0, 0, 4, 0, 0, 10, 0, 0, 0, 0, 0, 2, 3, 0, 2, 2, 2, 0…\n",
      "$ RDECOCUR   \u001b[3m\u001b[90m<int>\u001b[39m\u001b[23m 0, 0, 0, 0, 4, 0, 0, 10, 0, 0, 0, 0, 0, 3, 4, 0, 3, 3, 3, 0…\n",
      "$ GDECOCUR   \u001b[3m\u001b[90m<lgl>\u001b[39m\u001b[23m NA, NA, NA, NA, NA, NA, NA, NA, NA, NA, NA, NA, NA, NA, NA,…\n",
      "$ PDECOCUR   \u001b[3m\u001b[90m<lgl>\u001b[39m\u001b[23m NA, NA, NA, NA, NA, NA, NA, NA, NA, NA, NA, NA, NA, NA, NA,…\n",
      "$ ADECOCUR   \u001b[3m\u001b[90m<int>\u001b[39m\u001b[23m 0, 0, 0, 0, 5, 0, 0, 10, 0, 0, 0, 0, 0, 3, 4, 0, 3, 3, 3, 0…\n",
      "$ PONDIIO    \u001b[3m\u001b[90m<int>\u001b[39m\u001b[23m 230, 230, 230, 230, 180, 182, 182, 267, 261, 261, 261, 220,…\n",
      "$ TOT_P12    \u001b[3m\u001b[90m<int>\u001b[39m\u001b[23m 0, 0, 0, 0, 0, 0, 0, 25000, 0, 0, 0, 0, 0, 0, 0, 0, 0, 0, 0…\n",
      "$ P47T       \u001b[3m\u001b[90m<int>\u001b[39m\u001b[23m 0, 0, 0, 0, 15000, 4500, 0, 95000, 0, 0, 0, 32000, 0, 10000…\n",
      "$ DECINDR    \u001b[3m\u001b[90m<int>\u001b[39m\u001b[23m 0, 0, 0, 0, 3, 1, 0, 10, 0, 0, 0, 7, 0, 2, 2, 0, 2, 2, 2, 0…\n",
      "$ IDECINDR   \u001b[3m\u001b[90m<int>\u001b[39m\u001b[23m 0, 0, 0, 0, 3, 1, 0, 10, 0, 0, 0, 7, 0, 2, 3, 0, 2, 2, 2, 0…\n",
      "$ RDECINDR   \u001b[3m\u001b[90m<int>\u001b[39m\u001b[23m 0, 0, 0, 0, 4, 1, 0, 10, 0, 0, 0, 8, 0, 3, 3, 0, 3, 3, 3, 0…\n",
      "$ GDECINDR   \u001b[3m\u001b[90m<lgl>\u001b[39m\u001b[23m NA, NA, NA, NA, NA, NA, NA, NA, NA, NA, NA, NA, NA, NA, NA,…\n",
      "$ PDECINDR   \u001b[3m\u001b[90m<lgl>\u001b[39m\u001b[23m NA, NA, NA, NA, NA, NA, NA, NA, NA, NA, NA, NA, NA, NA, NA,…\n",
      "$ ADECINDR   \u001b[3m\u001b[90m<int>\u001b[39m\u001b[23m 0, 0, 0, 0, 4, 1, 0, 10, 0, 0, 0, 8, 0, 3, 3, 0, 3, 3, 3, 0…\n",
      "$ PONDII     \u001b[3m\u001b[90m<int>\u001b[39m\u001b[23m 230, 230, 230, 230, 181, 183, 182, 265, 261, 261, 261, 220,…\n",
      "$ V2_M       \u001b[3m\u001b[90m<int>\u001b[39m\u001b[23m 0, 0, 0, 0, 0, 0, 0, 0, 0, 0, 0, 18000, 0, 0, 0, 0, 0, 0, 0…\n",
      "$ V3_M       \u001b[3m\u001b[90m<int>\u001b[39m\u001b[23m 0, 0, 0, 0, 0, 0, 0, 0, 0, 0, 0, 0, 0, 0, 0, 0, 0, 0, 0, 0,…\n",
      "$ V4_M       \u001b[3m\u001b[90m<int>\u001b[39m\u001b[23m 0, 0, 0, 0, 0, 0, 0, 0, 0, 0, 0, 0, 0, 0, 0, 0, 0, 0, 0, 0,…\n",
      "$ V5_M       \u001b[3m\u001b[90m<int>\u001b[39m\u001b[23m 0, 0, 0, 0, 0, 4500, 0, 0, 0, 0, 0, 0, 0, 0, 0, 0, 0, 0, 16…\n",
      "$ V8_M       \u001b[3m\u001b[90m<int>\u001b[39m\u001b[23m 0, 0, 0, 0, 0, 0, 0, 0, 0, 0, 0, 0, 0, 0, 0, 0, 0, 0, 0, 0,…\n",
      "$ V9_M       \u001b[3m\u001b[90m<int>\u001b[39m\u001b[23m 0, 0, 0, 0, 0, 0, 0, 0, 0, 0, 0, 0, 0, 0, 0, 0, 0, 0, 0, 0,…\n",
      "$ V10_M      \u001b[3m\u001b[90m<int>\u001b[39m\u001b[23m 0, 0, 0, 0, 0, 0, 0, 0, 0, 0, 0, 0, 0, 0, 0, 0, 0, 0, 0, 0,…\n",
      "$ V11_M      \u001b[3m\u001b[90m<int>\u001b[39m\u001b[23m 0, 0, 0, 0, 0, 0, 0, 0, 0, 0, 0, 0, 0, 0, 0, 0, 0, 0, 0, 0,…\n",
      "$ V12_M      \u001b[3m\u001b[90m<int>\u001b[39m\u001b[23m 0, 0, 0, 0, 0, 0, 0, 0, 0, 0, 0, 0, 0, 0, 0, 0, 0, 0, 0, 0,…\n",
      "$ V18_M      \u001b[3m\u001b[90m<int>\u001b[39m\u001b[23m 0, 0, 0, 0, 0, 0, 0, 0, 0, 0, 0, 0, 0, 0, 0, 0, 0, 0, 0, 0,…\n",
      "$ V19_AM     \u001b[3m\u001b[90m<int>\u001b[39m\u001b[23m 0, 0, 0, 0, 0, 0, 0, 0, 0, 0, 0, 0, 0, 0, 0, 0, 0, 0, 0, 0,…\n",
      "$ V21_M      \u001b[3m\u001b[90m<int>\u001b[39m\u001b[23m 0, 0, 0, 0, 0, 0, 0, 0, 0, 0, 0, 9000, 0, 0, 0, 0, 0, 0, 0,…\n",
      "$ T_VI       \u001b[3m\u001b[90m<int>\u001b[39m\u001b[23m 0, 0, 0, 0, 0, 4500, 0, 0, 0, 0, 0, 32000, 0, 0, 0, 0, 0, 0…\n",
      "$ ITF        \u001b[3m\u001b[90m<int>\u001b[39m\u001b[23m 43250, 43250, 43250, 43250, 19500, 19500, 19500, 95000, 950…\n",
      "$ DECIFR     \u001b[3m\u001b[90m<int>\u001b[39m\u001b[23m 5, 5, 5, 5, 2, 2, 2, 9, 9, 9, 9, 6, 6, 6, 6, 6, 3, 3, 3, 3,…\n",
      "$ IDECIFR    \u001b[3m\u001b[90m<int>\u001b[39m\u001b[23m 5, 5, 5, 5, 2, 2, 2, 9, 9, 9, 9, 7, 7, 7, 7, 7, 3, 3, 3, 3,…\n",
      "$ RDECIFR    \u001b[3m\u001b[90m<int>\u001b[39m\u001b[23m 6, 6, 6, 6, 2, 2, 2, 9, 9, 9, 9, 7, 7, 7, 7, 7, 4, 4, 4, 4,…\n",
      "$ GDECIFR    \u001b[3m\u001b[90m<lgl>\u001b[39m\u001b[23m NA, NA, NA, NA, NA, NA, NA, NA, NA, NA, NA, NA, NA, NA, NA,…\n",
      "$ PDECIFR    \u001b[3m\u001b[90m<lgl>\u001b[39m\u001b[23m NA, NA, NA, NA, NA, NA, NA, NA, NA, NA, NA, NA, NA, NA, NA,…\n",
      "$ ADECIFR    \u001b[3m\u001b[90m<int>\u001b[39m\u001b[23m 6, 6, 6, 6, 2, 2, 2, 10, 10, 10, 10, 7, 7, 7, 7, 7, 3, 3, 3…\n",
      "$ IPCF       \u001b[3m\u001b[90m<chr>\u001b[39m\u001b[23m \"5406,25\", \"5406,25\", \"5406,25\", \"5406,25\", \"6500\", \"6500\",…\n",
      "$ DECCFR     \u001b[3m\u001b[90m<int>\u001b[39m\u001b[23m 1, 1, 1, 1, 2, 2, 2, 7, 7, 7, 7, 3, 3, 3, 3, 3, 3, 3, 1, 1,…\n",
      "$ IDECCFR    \u001b[3m\u001b[90m<int>\u001b[39m\u001b[23m 1, 1, 1, 1, 2, 2, 2, 7, 7, 7, 7, 3, 3, 3, 3, 3, 3, 3, 1, 1,…\n",
      "$ RDECCFR    \u001b[3m\u001b[90m<int>\u001b[39m\u001b[23m 2, 2, 2, 2, 2, 2, 2, 8, 8, 8, 8, 4, 4, 4, 4, 4, 4, 4, 1, 1,…\n",
      "$ GDECCFR    \u001b[3m\u001b[90m<lgl>\u001b[39m\u001b[23m NA, NA, NA, NA, NA, NA, NA, NA, NA, NA, NA, NA, NA, NA, NA,…\n",
      "$ PDECCFR    \u001b[3m\u001b[90m<lgl>\u001b[39m\u001b[23m NA, NA, NA, NA, NA, NA, NA, NA, NA, NA, NA, NA, NA, NA, NA,…\n",
      "$ ADECCFR    \u001b[3m\u001b[90m<int>\u001b[39m\u001b[23m 2, 2, 2, 2, 2, 2, 2, 8, 8, 8, 8, 5, 5, 5, 5, 5, 4, 4, 1, 1,…\n",
      "$ PONDIH     \u001b[3m\u001b[90m<int>\u001b[39m\u001b[23m 230, 230, 230, 230, 181, 181, 181, 270, 270, 270, 270, 220,…\n"
     ]
    }
   ],
   "source": [
    "glimpse(individualt120)"
   ]
  },
  {
   "cell_type": "code",
   "execution_count": 108,
   "id": "f7f94c04-782d-4aec-a7ea-73943d304629",
   "metadata": {},
   "outputs": [],
   "source": [
    "saveRDS(individualt120, file = \"individualt120.RDS\", ascii = FALSE, version = NULL,\n",
    "        compress = TRUE, refhook = NULL)"
   ]
  },
  {
   "cell_type": "code",
   "execution_count": 110,
   "id": "4c9a4d68",
   "metadata": {},
   "outputs": [],
   "source": [
    "BaseRDS = readRDS(file='individualt120.RDS', refhook = NULL)"
   ]
  },
  {
   "cell_type": "code",
   "execution_count": 113,
   "id": "b0a5a711",
   "metadata": {},
   "outputs": [
    {
     "data": {
      "text/plain": [
       "Time difference of 0.1865292 secs"
      ]
     },
     "metadata": {},
     "output_type": "display_data"
    }
   ],
   "source": [
    "start.time <- Sys.time()\n",
    "BaseRDS = readRDS(file='individualt120.RDS', refhook = NULL)\n",
    "end.time <- Sys.time()\n",
    "time.taken <- end.time - start.time\n",
    "time.taken"
   ]
  },
  {
   "cell_type": "code",
   "execution_count": 114,
   "id": "d278bcc5",
   "metadata": {},
   "outputs": [
    {
     "data": {
      "text/plain": [
       "Time difference of 1.896407 secs"
      ]
     },
     "metadata": {},
     "output_type": "display_data"
    }
   ],
   "source": [
    "start.time <- Sys.time()\n",
    "individualt120 <- read.csv(\"/Users/bita/data/eea2024/EEA-2024/Fuentes/usu_individual_T120.txt\",\n",
    "                          sep=\";\")\n",
    "end.time <- Sys.time()\n",
    "time.taken <- end.time - start.time\n",
    "time.taken"
   ]
  },
  {
   "cell_type": "code",
   "execution_count": null,
   "id": "c8544d1f",
   "metadata": {},
   "outputs": [],
   "source": []
  }
 ],
 "metadata": {
  "kernelspec": {
   "display_name": "R",
   "language": "R",
   "name": "ir"
  },
  "toc": {
   "base_numbering": 1,
   "nav_menu": {},
   "number_sections": true,
   "sideBar": true,
   "skip_h1_title": false,
   "title_cell": "Table of Contents",
   "title_sidebar": "Contents",
   "toc_cell": false,
   "toc_position": {},
   "toc_section_display": true,
   "toc_window_display": false
  }
 },
 "nbformat": 4,
 "nbformat_minor": 5
}
